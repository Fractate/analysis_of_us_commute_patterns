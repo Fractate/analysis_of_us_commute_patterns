{
 "cells": [
  {
   "cell_type": "code",
   "execution_count": 1,
   "metadata": {},
   "outputs": [],
   "source": [
    "# Init\n",
    "# choropleth\n",
    "from __future__ import division\n",
    "import pandas as pd\n",
    "import numpy as np\n",
    "import statsmodels.api as sm\n",
    "import statsmodels.formula.api as smf\n",
    "import os\n",
    "import matplotlib.pyplot as plt\n",
    "import seaborn as sns"
   ]
  },
  {
   "attachments": {},
   "cell_type": "markdown",
   "metadata": {},
   "source": [
    "# County level data retrieval"
   ]
  },
  {
   "cell_type": "code",
   "execution_count": 2,
   "metadata": {},
   "outputs": [
    {
     "name": "stdout",
     "output_type": "stream",
     "text": [
      "['Unnamed: 0', 'Unnamed: 0_x', 'fips', 'total_population', 'log_total_population', 'population_density', 'total_workers', 'land_area', 'aggregate_num_vehicles', 'aggregate_time_commute', 'aggregate_time_commute_drive_alone', 'aggregate_time_commute_carpool', 'aggregate_time_commute_public_transit', 'aggregate_time_commute_other_means', 'total_workers_drove_alone', 'total_workers_carpooled', 'total_workers_public_transit', 'total_workers_other_means', 'ttl_wrkr_cmute', 'wrkrs_drove_alone', 'wrkrs_drove_alone_below_100_poverty', 'pct_wrkrs_drove_alone_below_100_poverty', 'wrkrs_drove_alone_100_to_150_poverty', 'wrkrs_drove_alone_over_150_poverty', 'wrkrs_carpool', 'wrkrs_carpool_below_100_poverty', 'pct_wrkrs_carpool_below_100_poverty', 'wrkrs_carpool_100_to_150_poverty', 'wrkrs_carpool_over_150_poverty', 'wrkrs_public_transit', 'wrkrs_public_transit_below_100_poverty', 'pct_wrkrs_public_transit_below_100_poverty', 'wrkrs_public_transit_100_to_150_poverty', 'wrkrs_public_transit_over_150_poverty', 'wrkrs_walked', 'wrkrs_walked_below_100_poverty', 'pct_wrkrs_walked_below_100_poverty', 'wrkrs_walked_100_to_150_poverty', 'wrkrs_walked_over_150_poverty', 'wrkrs_commute_other_means', 'wrkrs_commute_other_means_below_100_poverty', 'pct_wrkrs_commute_other_means_below_100_poverty', 'wrkrs_commute_other_means_100_to_150_poverty', 'wrkrs_commute_other_means_over_150_poverty', 'ttl_wrkr_cmute_under_10_min', 'ttl_wrkr_cmute_10_to_14_min', 'ttl_wrkr_cmute_15_to_14_min', 'ttl_wrkr_cmute_20_to_24_min', 'ttl_wrkr_cmute_25_to_29_min', 'ttl_wrkr_cmute_30_to_34_min', 'ttl_wrkr_cmute_35_to_44_min', 'ttl_wrkr_cmute_45_to_59_min', 'ttl_wrkr_cmute_over_60', 'pct_wrkr_cmute_01_to_14_min', 'pct_wrkr_cmute_15_to_29_min', 'pct_wrkr_cmute_30_to_44_min', 'pct_wrkr_cmute_44_to_59_min', 'pct_wrkr_cmute_over_60_min', 'ttl_car_wrkr_cmute', 'ttl_car_wrkr_cmute_under_10_min', 'ttl_car_wrkr_cmute_10_to_14_min', 'ttl_car_wrkr_cmute_15_to_14_min', 'ttl_car_wrkr_cmute_20_to_24_min', 'ttl_car_wrkr_cmute_25_to_29_min', 'ttl_car_wrkr_cmute_30_to_34_min', 'ttl_car_wrkr_cmute_35_to_44_min', 'ttl_car_wrkr_cmute_45_to_59_min', 'ttl_car_wrkr_cmute_over_60_min', 'pct_car_wrkr_cmute', 'pct_car_wrkr_cmute_01_to_14_min', 'pct_car_wrkr_cmute_15_to_29_min', 'pct_car_wrkr_cmute_30_to_44_min', 'pct_car_wrkr_cmute_44_to_59_min', 'pct_car_wrkr_cmute_over_60_min', 'log_pct_car_wrkr_cmute', 'log_pct_car_wrkr_cmute_01_to_14_min', 'log_pct_car_wrkr_cmute_15_to_29_min', 'log_pct_car_wrkr_cmute_30_to_44_min', 'log_pct_car_wrkr_cmute_44_to_59_min', 'log_pct_car_wrkr_cmute_over_60_min', 'zero_check', 'ttl_all_public_tspt_wrkr_cmute', 'ttl_all_public_tspt_wrkr_cmute_under_10_min', 'ttl_all_public_tspt_wrkr_cmute_10_to_14_min', 'ttl_all_public_tspt_wrkr_cmute_15_to_14_min', 'ttl_all_public_tspt_wrkr_cmute_20_to_24_min', 'ttl_all_public_tspt_wrkr_cmute_25_to_29_min', 'ttl_all_public_tspt_wrkr_cmute_30_to_34_min', 'ttl_all_public_tspt_wrkr_cmute_35_to_44_min', 'ttl_all_public_tspt_wrkr_cmute_45_to_59_min', 'ttl_all_public_tspt_wrkr_cmute_over_60_min', 'pct_all_public_tspt_wrkr_cmute', 'pct_all_public_tspt_wrkr_cmute_01_to_14_min', 'pct_all_public_tspt_wrkr_cmute_15_to_29_min', 'pct_all_public_tspt_wrkr_cmute_30_to_44_min', 'pct_all_public_tspt_wrkr_cmute_44_to_59_min', 'pct_all_public_tspt_wrkr_cmute_over_60_min', 'ttl_bus_wrkr_cmute', 'ttl_bus_wrkr_cmute_under_10_min', 'ttl_bus_wrkr_cmute_10_to_14_min', 'ttl_bus_wrkr_cmute_15_to_14_min', 'ttl_bus_wrkr_cmute_20_to_24_min', 'ttl_bus_wrkr_cmute_25_to_29_min', 'ttl_bus_wrkr_cmute_30_to_34_min', 'ttl_bus_wrkr_cmute_35_to_44_min', 'ttl_bus_wrkr_cmute_45_to_59_min', 'ttl_bus_wrkr_cmute_over_60_min', 'pct_bus_wrkr_cmute', 'pct_bus_wrkr_cmute_01_to_14_min', 'pct_bus_wrkr_cmute_15_to_29_min', 'pct_bus_wrkr_cmute_30_to_44_min', 'pct_bus_wrkr_cmute_44_to_59_min', 'pct_bus_wrkr_cmute_over_60_min', 'ttl_local_rails_wrkr_cmute', 'ttl_local_rails_wrkr_cmute_under_10_min', 'ttl_local_rails_wrkr_cmute_10_to_14_min', 'ttl_local_rails_wrkr_cmute_15_to_14_min', 'ttl_local_rails_wrkr_cmute_20_to_24_min', 'ttl_local_rails_wrkr_cmute_25_to_29_min', 'ttl_local_rails_wrkr_cmute_30_to_34_min', 'ttl_local_rails_wrkr_cmute_35_to_44_min', 'ttl_local_rails_wrkr_cmute_45_to_59_min', 'ttl_local_rails_wrkr_cmute_over_60_min', 'pct_local_rails_wrkr_cmute', 'pct_local_rails_wrkr_cmute_01_to_14_min', 'pct_local_rails_wrkr_cmute_15_to_29_min', 'pct_local_rails_wrkr_cmute_30_to_44_min', 'pct_local_rails_wrkr_cmute_44_to_59_min', 'pct_local_rails_wrkr_cmute_over_60_min', 'ttl_long_distance_public_transport_wrkr_cmute', 'ttl_long_distance_public_transport_wrkr_cmute_under_10_min', 'ttl_long_distance_public_transport_wrkr_cmute_10_to_14_min', 'ttl_long_distance_public_transport_wrkr_cmute_15_to_14_min', 'ttl_long_distance_public_transport_wrkr_cmute_20_to_24_min', 'ttl_long_distance_public_transport_wrkr_cmute_25_to_29_min', 'ttl_long_distance_public_transport_wrkr_cmute_30_to_34_min', 'ttl_long_distance_public_transport_wrkr_cmute_35_to_44_min', 'ttl_long_distance_public_transport_wrkr_cmute_45_to_59_min', 'ttl_long_distance_public_transport_wrkr_cmute_over_60_min', 'pct_long_distance_public_transport_wrkr_cmute', 'pct_long_distance_public_transport_wrkr_cmute_01_to_14_min', 'pct_long_distance_public_transport_wrkr_cmute_15_to_29_min', 'pct_long_distance_public_transport_wrkr_cmute_30_to_44_min', 'pct_long_distance_public_transport_wrkr_cmute_44_to_59_min', 'pct_long_distance_public_transport_wrkr_cmute_over_60_min', 'ttl_walked_wrkr_cmute', 'ttl_walked_wrkr_cmute_under_10_min', 'ttl_walked_wrkr_cmute_10_to_14_min', 'ttl_walked_wrkr_cmute_15_to_14_min', 'ttl_walked_wrkr_cmute_20_to_24_min', 'ttl_walked_wrkr_cmute_25_to_29_min', 'ttl_walked_wrkr_cmute_30_to_34_min', 'ttl_walked_wrkr_cmute_35_to_44_min', 'ttl_walked_wrkr_cmute_45_to_59_min', 'ttl_walked_wrkr_cmute_over_60_min', 'pct_walked_wrkr_cmute', 'pct_walked_wrkr_cmute_01_to_14_min', 'pct_walked_wrkr_cmute_15_to_29_min', 'pct_walked_wrkr_cmute_30_to_44_min', 'pct_walked_wrkr_cmute_44_to_59_min', 'pct_walked_wrkr_cmute_over_60_min', 'ttl_misc_trspt_method_wrkr_cmute', 'ttl_misc_trspt_method_wrkr_cmute_under_10_min', 'ttl_misc_trspt_method_wrkr_cmute_10_to_14_min', 'ttl_misc_trspt_method_wrkr_cmute_15_to_14_min', 'ttl_misc_trspt_method_wrkr_cmute_20_to_24_min', 'ttl_misc_trspt_method_wrkr_cmute_25_to_29_min', 'ttl_misc_trspt_method_wrkr_cmute_30_to_34_min', 'ttl_misc_trspt_method_wrkr_cmute_35_to_44_min', 'ttl_misc_trspt_method_wrkr_cmute_45_to_59_min', 'ttl_misc_trspt_method_wrkr_cmute_over_60_min', 'pct_misc_trspt_method_wrkr_cmute', 'pct_misc_trspt_method_wrkr_cmute_01_to_14_min', 'pct_misc_trspt_method_wrkr_cmute_15_to_29_min', 'pct_misc_trspt_method_wrkr_cmute_30_to_44_min', 'pct_misc_trspt_method_wrkr_cmute_44_to_59_min', 'pct_misc_trspt_method_wrkr_cmute_over_60_min', 'ttl_households', 'population_in_labor_force', 'population_employed', 'population_unemployed', 'pct_unemployed', 'worker_density', 'vehicles_density', 'vehicles_per_worker', 'log_vehicles_per_worker', 'vehicles_per_worker_x_landarea', 'vehicles_per_worker_per_landarea', 'vehicles_x_worker_per_landarea', 'vehicle_density_x_vehicles_per_worker', 'average_commute_time_per_worker_drive_alone', 'average_commute_time_per_worker_carpool', 'average_commute_time_per_worker_public_transit', 'average_commute_time_per_worker_other_means', 'households_with_0_vehicle', 'households_with_1_vehicle', 'households_with_2_vehicle', 'households_with_3_vehicle', 'households_with_4_vehicle', 'households_with_5_or_more_vehicle', 'Unnamed: 0_y', 'cbp_total_employees', 'cbp_total_establishments', 'cbp_num_employees_5', 'cbp_num_employees_5_9', 'cbp_num_employees_10_19', 'cbp_num_employees_20_49', 'cbp_num_employees_50_99', 'cbp_num_employees_100_249', 'cbp_num_employees_250_499', 'cbp_num_employees_500_999', 'cbp_num_employees_1000', 'county_zip_file_name', 'roads_length', 'intersections']\n"
     ]
    }
   ],
   "source": [
    "df = pd.read_csv('../data/2019_data/prepped_data_2019.csv', na_values=\".\")\n",
    "print(df.columns.tolist())"
   ]
  },
  {
   "attachments": {},
   "cell_type": "markdown",
   "metadata": {},
   "source": [
    "# Data Cleanup involves combining data from two different years"
   ]
  },
  {
   "cell_type": "code",
   "execution_count": 3,
   "metadata": {},
   "outputs": [],
   "source": [
    "# ##### Data Cleanup\n",
    "\n",
    "# df = df.dropna(subset=['vehicles_per_worker',\n",
    "#                                  'total_workers',\n",
    "#                                  'land_area',\n",
    "#                                  'pct_unemployed',\n",
    "#                                  'average_commute_time_per_worker_drive_alone',\n",
    "#                                  'pct_car_wrkr_cmute_01_to_14_min',\n",
    "#                                  'pct_car_wrkr_cmute_15_to_29_min',\n",
    "#                                  'pct_car_wrkr_cmute_30_to_44_min',\n",
    "#                                  'pct_car_wrkr_cmute_44_to_59_min',\n",
    "#                                  'pct_car_wrkr_cmute_over_60_min',\n",
    "#                                  'total_population'])\n",
    "\n",
    "# df['total_workers'] = df['total_workers']\n",
    "# df['land_area'] = df['land_area']\n",
    "# df['vehicles_per_worker'] = df['vehicles_per_worker']\n",
    "# df['average_commute_time_per_worker_drive_alone'] = df['average_commute_time_per_worker_drive_alone']\n",
    "# df['pct_car_wrkr_cmute_01_to_14_min'] = df['pct_car_wrkr_cmute_01_to_14_min']\n",
    "# df['pct_car_wrkr_cmute_15_to_29_min'] = df['pct_car_wrkr_cmute_15_to_29_min']\n",
    "# df['pct_car_wrkr_cmute_44_to_59_min'] = df['pct_car_wrkr_cmute_44_to_59_min']\n",
    "# df['pct_car_wrkr_cmute_30_to_44_min'] = df['pct_car_wrkr_cmute_30_to_44_min']\n",
    "# df['pct_car_wrkr_cmute_over_60_min'] = df['pct_car_wrkr_cmute_over_60_min']\n",
    "# df['pct_unemployed'] = df['pct_unemployed']\n",
    "# df['total_population'] = df['total_population']\n",
    "# df['year'] = 2019"
   ]
  },
  {
   "cell_type": "markdown",
   "metadata": {},
   "source": [
    "# OLS Regression - Multivariate"
   ]
  },
  {
   "cell_type": "code",
   "execution_count": 4,
   "metadata": {},
   "outputs": [
    {
     "name": "stderr",
     "output_type": "stream",
     "text": [
      "C:\\Users\\cjong\\AppData\\Local\\Temp\\ipykernel_9184\\3390946073.py:2: UserWarning: Pandas doesn't allow columns to be created via a new attribute name - see https://pandas.pydata.org/pandas-docs/stable/indexing.html#attribute-access\n",
      "  df.pct_walking_and_public_transit = df.pct_all_public_tspt_wrkr_cmute + df.pct_walked_wrkr_cmute\n"
     ]
    },
    {
     "data": {
      "text/plain": [
       "0          0.015675\n",
       "1          0.015675\n",
       "2          0.015675\n",
       "3          0.015675\n",
       "4          0.015675\n",
       "             ...   \n",
       "1076810    0.019362\n",
       "1076811    0.044232\n",
       "1076812    0.025020\n",
       "1076813    0.020998\n",
       "1076814    0.038529\n",
       "Length: 1076815, dtype: float64"
      ]
     },
     "execution_count": 4,
     "metadata": {},
     "output_type": "execute_result"
    }
   ],
   "source": [
    "df = df\n",
    "df.pct_walking_and_public_transit = df.pct_all_public_tspt_wrkr_cmute + df.pct_walked_wrkr_cmute\n",
    "df.pct_walking_and_public_transit\n"
   ]
  },
  {
   "cell_type": "code",
   "execution_count": 5,
   "metadata": {},
   "outputs": [
    {
     "data": {
      "text/plain": [
       "0          0.015675\n",
       "1          0.015675\n",
       "2          0.015675\n",
       "3          0.015675\n",
       "4          0.015675\n",
       "             ...   \n",
       "1076810    0.019362\n",
       "1076811    0.044232\n",
       "1076812    0.025020\n",
       "1076813    0.020998\n",
       "1076814    0.038529\n",
       "Name: pct_walking_and_public_transit, Length: 1076815, dtype: float64"
      ]
     },
     "execution_count": 5,
     "metadata": {},
     "output_type": "execute_result"
    }
   ],
   "source": [
    "df = df\n",
    "df['pct_walking_and_public_transit'] = df['pct_all_public_tspt_wrkr_cmute'] + df['pct_walked_wrkr_cmute']\n",
    "df['pct_walking_and_public_transit']\n"
   ]
  },
  {
   "attachments": {},
   "cell_type": "markdown",
   "metadata": {},
   "source": [
    "### Thought process\n",
    "If there are significances found between the percentage of people that commute to work by walking & public transit and the combination of cars per worker, "
   ]
  },
  {
   "cell_type": "code",
   "execution_count": 6,
   "metadata": {},
   "outputs": [
    {
     "name": "stdout",
     "output_type": "stream",
     "text": [
      "                                  OLS Regression Results                                  \n",
      "==========================================================================================\n",
      "Dep. Variable:     pct_walking_and_public_transit   R-squared:                       0.905\n",
      "Model:                                        OLS   Adj. R-squared:                  0.905\n",
      "Method:                             Least Squares   F-statistic:                 6.097e+05\n",
      "Date:                            Tue, 20 Dec 2022   Prob (F-statistic):               0.00\n",
      "Time:                                    09:58:08   Log-Likelihood:             1.2513e+06\n",
      "No. Observations:                          576488   AIC:                        -2.503e+06\n",
      "Df Residuals:                              576478   BIC:                        -2.503e+06\n",
      "Df Model:                                       9                                         \n",
      "Covariance Type:                        nonrobust                                         \n",
      "===============================================================================================================\n",
      "                                                  coef    std err          t      P>|t|      [0.025      0.975]\n",
      "---------------------------------------------------------------------------------------------------------------\n",
      "Intercept                                       0.8155      0.000   1763.617      0.000       0.815       0.816\n",
      "vehicles_per_worker                            -0.8906      0.000  -1990.817      0.000      -0.891      -0.890\n",
      "roads_length                                -1.954e-09   1.87e-11   -104.437      0.000   -1.99e-09   -1.92e-09\n",
      "intersections                               -1.755e-07   5.26e-09    -33.373      0.000   -1.86e-07   -1.65e-07\n",
      "total_population                             1.496e-08   9.59e-11    155.948      0.000    1.48e-08    1.51e-08\n",
      "average_commute_time_per_worker_drive_alone    -0.0006   8.06e-06    -78.604      0.000      -0.001      -0.001\n",
      "pct_unemployed                                  0.0020   2.09e-05     94.843      0.000       0.002       0.002\n",
      "land_area                                   -1.615e-13   6.29e-15    -25.665      0.000   -1.74e-13   -1.49e-13\n",
      "cbp_total_employees                          1.103e-07   9.94e-09     11.093      0.000    9.08e-08     1.3e-07\n",
      "cbp_total_establishments                     -1.67e-06   1.64e-07    -10.154      0.000   -1.99e-06   -1.35e-06\n",
      "==============================================================================\n",
      "Omnibus:                   101853.961   Durbin-Watson:                   0.007\n",
      "Prob(Omnibus):                  0.000   Jarque-Bera (JB):          2435782.129\n",
      "Skew:                          -0.125   Prob(JB):                         0.00\n",
      "Kurtosis:                      13.067   Cond. No.                     1.34e+11\n",
      "==============================================================================\n",
      "\n",
      "Notes:\n",
      "[1] Standard Errors assume that the covariance matrix of the errors is correctly specified.\n",
      "[2] The condition number is large, 1.34e+11. This might indicate that there are\n",
      "strong multicollinearity or other numerical problems.\n"
     ]
    }
   ],
   "source": [
    "# ols regression logic the following\n",
    "# walking and public total pct is affected by the following\n",
    "# average vehicles per worker\n",
    "# \n",
    "lm_ols = smf.ols(formula = 'pct_walking_and_public_transit ~ \\\n",
    "                                vehicles_per_worker + \\\n",
    "                                roads_length + \\\n",
    "                                intersections + \\\n",
    "                                total_population + \\\n",
    "                                average_commute_time_per_worker_drive_alone + \\\n",
    "                                pct_unemployed + \\\n",
    "                                land_area + \\\n",
    "                                cbp_total_employees + \\\n",
    "                                cbp_total_establishments',\n",
    "                                data = df).fit()\n",
    "print (lm_ols.summary())"
   ]
  },
  {
   "cell_type": "code",
   "execution_count": 7,
   "metadata": {},
   "outputs": [
    {
     "name": "stdout",
     "output_type": "stream",
     "text": [
      "                                  OLS Regression Results                                  \n",
      "==========================================================================================\n",
      "Dep. Variable:     pct_walking_and_public_transit   R-squared:                       0.843\n",
      "Model:                                        OLS   Adj. R-squared:                  0.843\n",
      "Method:                             Least Squares   F-statistic:                 7.221e+05\n",
      "Date:                            Tue, 20 Dec 2022   Prob (F-statistic):               0.00\n",
      "Time:                                    09:58:09   Log-Likelihood:             2.3308e+06\n",
      "No. Observations:                         1076734   AIC:                        -4.662e+06\n",
      "Df Residuals:                             1076725   BIC:                        -4.661e+06\n",
      "Df Model:                                       8                                         \n",
      "Covariance Type:                        nonrobust                                         \n",
      "============================================================================================\n",
      "                               coef    std err          t      P>|t|      [0.025      0.975]\n",
      "--------------------------------------------------------------------------------------------\n",
      "Intercept                    0.7426      0.000   2207.045      0.000       0.742       0.743\n",
      "vehicles_per_worker         -0.8230      0.000  -2108.315      0.000      -0.824      -0.822\n",
      "roads_length             -1.362e-09   1.52e-11    -89.597      0.000   -1.39e-09   -1.33e-09\n",
      "intersections            -2.836e-07   4.72e-09    -60.049      0.000   -2.93e-07   -2.74e-07\n",
      "total_population          1.594e-08   8.62e-11    184.868      0.000    1.58e-08    1.61e-08\n",
      "pct_unemployed               0.0017   1.42e-05    120.877      0.000       0.002       0.002\n",
      "land_area                -1.012e-13   5.67e-15    -17.849      0.000   -1.12e-13   -9.01e-14\n",
      "cbp_total_employees       1.898e-07    9.7e-09     19.571      0.000    1.71e-07    2.09e-07\n",
      "cbp_total_establishments -2.852e-06   1.61e-07    -17.716      0.000   -3.17e-06   -2.54e-06\n",
      "==============================================================================\n",
      "Omnibus:                   292500.064   Durbin-Watson:                   0.008\n",
      "Prob(Omnibus):                  0.000   Jarque-Bera (JB):          6200494.112\n",
      "Skew:                           0.798   Prob(JB):                         0.00\n",
      "Kurtosis:                      14.647   Cond. No.                     1.27e+11\n",
      "==============================================================================\n",
      "\n",
      "Notes:\n",
      "[1] Standard Errors assume that the covariance matrix of the errors is correctly specified.\n",
      "[2] The condition number is large, 1.27e+11. This might indicate that there are\n",
      "strong multicollinearity or other numerical problems.\n"
     ]
    }
   ],
   "source": [
    "lm_ols = smf.ols(formula = 'pct_walking_and_public_transit ~ \\\n",
    "                                vehicles_per_worker + \\\n",
    "                                roads_length + \\\n",
    "                                intersections + \\\n",
    "                                total_population + \\\n",
    "                                pct_unemployed + \\\n",
    "                                land_area + \\\n",
    "                                cbp_total_employees + \\\n",
    "                                cbp_total_establishments \\\n",
    "                                ',\n",
    "                                # average_commute_time_per_worker_drive_alone + \\\n",
    "data = df).fit()\n",
    "print (lm_ols.summary())"
   ]
  },
  {
   "cell_type": "code",
   "execution_count": 8,
   "metadata": {},
   "outputs": [
    {
     "name": "stdout",
     "output_type": "stream",
     "text": [
      "                                  OLS Regression Results                                  \n",
      "==========================================================================================\n",
      "Dep. Variable:     pct_walking_and_public_transit   R-squared:                       0.843\n",
      "Model:                                        OLS   Adj. R-squared:                  0.843\n",
      "Method:                             Least Squares   F-statistic:                 9.625e+05\n",
      "Date:                            Tue, 20 Dec 2022   Prob (F-statistic):               0.00\n",
      "Time:                                    09:58:11   Log-Likelihood:             2.3306e+06\n",
      "No. Observations:                         1076736   AIC:                        -4.661e+06\n",
      "Df Residuals:                             1076729   BIC:                        -4.661e+06\n",
      "Df Model:                                       6                                         \n",
      "Covariance Type:                        nonrobust                                         \n",
      "=======================================================================================\n",
      "                          coef    std err          t      P>|t|      [0.025      0.975]\n",
      "---------------------------------------------------------------------------------------\n",
      "Intercept               0.7427      0.000   2207.675      0.000       0.742       0.743\n",
      "vehicles_per_worker    -0.8232      0.000  -2108.896      0.000      -0.824      -0.822\n",
      "roads_length        -1.365e-09   1.52e-11    -89.806      0.000    -1.4e-09   -1.34e-09\n",
      "intersections        -2.82e-07   4.72e-09    -59.701      0.000   -2.91e-07   -2.73e-07\n",
      "total_population     1.593e-08   8.61e-11    185.031      0.000    1.58e-08    1.61e-08\n",
      "pct_unemployed          0.0017   1.42e-05    120.902      0.000       0.002       0.002\n",
      "land_area           -1.018e-13   5.67e-15    -17.962      0.000   -1.13e-13   -9.07e-14\n",
      "==============================================================================\n",
      "Omnibus:                   292298.976   Durbin-Watson:                   0.008\n",
      "Prob(Omnibus):                  0.000   Jarque-Bera (JB):          6196515.600\n",
      "Skew:                           0.797   Prob(JB):                         0.00\n",
      "Kurtosis:                      14.644   Cond. No.                     1.27e+11\n",
      "==============================================================================\n",
      "\n",
      "Notes:\n",
      "[1] Standard Errors assume that the covariance matrix of the errors is correctly specified.\n",
      "[2] The condition number is large, 1.27e+11. This might indicate that there are\n",
      "strong multicollinearity or other numerical problems.\n"
     ]
    }
   ],
   "source": [
    "lm_ols = smf.ols(formula = 'pct_walking_and_public_transit ~ \\\n",
    "                                vehicles_per_worker + \\\n",
    "                                roads_length + \\\n",
    "                                intersections + \\\n",
    "                                total_population + \\\n",
    "                                pct_unemployed + \\\n",
    "                                land_area ',\n",
    "                                # average_commute_time_per_worker_drive_alone + \\\n",
    "data = df).fit()\n",
    "print (lm_ols.summary())"
   ]
  },
  {
   "attachments": {},
   "cell_type": "markdown",
   "metadata": {},
   "source": [
    "# Comparing data for business establishment per county\n",
    "## this is on top of total road density, road intersection density, total population, total vehicles\n",
    "## include total time per commute method driving / carpooling vs walking & everything else"
   ]
  },
  {
   "cell_type": "code",
   "execution_count": 9,
   "metadata": {},
   "outputs": [],
   "source": [
    "# lm_ols = smf.ols(formula = 'pct_walking_and_public_transit ~ \\\n",
    "#                                 vehicles_per_worker + \\\n",
    "#                                 roads_length + \\\n",
    "#                                 intersections + \\\n",
    "#                                 total_population + \\\n",
    "#                                 pct_unemployed + \\\n",
    "#                                 land_area ',\n",
    "# data = df).fit()\n",
    "# print (lm_ols.summary())"
   ]
  },
  {
   "cell_type": "code",
   "execution_count": 10,
   "metadata": {},
   "outputs": [
    {
     "name": "stdout",
     "output_type": "stream",
     "text": [
      "                                  OLS Regression Results                                  \n",
      "==========================================================================================\n",
      "Dep. Variable:     pct_walking_and_public_transit   R-squared:                       0.848\n",
      "Model:                                        OLS   Adj. R-squared:                  0.848\n",
      "Method:                             Least Squares   F-statistic:                 8.567e+05\n",
      "Date:                            Tue, 20 Dec 2022   Prob (F-statistic):               0.00\n",
      "Time:                                    09:58:12   Log-Likelihood:             2.3478e+06\n",
      "No. Observations:                         1076736   AIC:                        -4.696e+06\n",
      "Df Residuals:                             1076728   BIC:                        -4.695e+06\n",
      "Df Model:                                       7                                         \n",
      "Covariance Type:                        nonrobust                                         \n",
      "=======================================================================================\n",
      "                          coef    std err          t      P>|t|      [0.025      0.975]\n",
      "---------------------------------------------------------------------------------------\n",
      "Intercept               0.7196      0.000   2035.669      0.000       0.719       0.720\n",
      "vehicles_per_worker    -0.7983      0.000  -1963.932      0.000      -0.799      -0.798\n",
      "roads_length        -1.022e-09   1.51e-11    -67.796      0.000   -1.05e-09   -9.92e-10\n",
      "intersections        -4.37e-07   4.72e-09    -92.558      0.000   -4.46e-07   -4.28e-07\n",
      "total_population    -7.115e-08   4.74e-10   -150.166      0.000   -7.21e-08   -7.02e-08\n",
      "pct_unemployed          0.0017    1.4e-05    120.456      0.000       0.002       0.002\n",
      "land_area             3.91e-14   5.63e-15      6.943      0.000    2.81e-14    5.01e-14\n",
      "ttl_households       2.591e-07   1.39e-09    186.810      0.000    2.56e-07    2.62e-07\n",
      "==============================================================================\n",
      "Omnibus:                   313034.581   Durbin-Watson:                   0.008\n",
      "Prob(Omnibus):                  0.000   Jarque-Bera (JB):          6099756.478\n",
      "Skew:                           0.916   Prob(JB):                         0.00\n",
      "Kurtosis:                      14.516   Cond. No.                     1.35e+11\n",
      "==============================================================================\n",
      "\n",
      "Notes:\n",
      "[1] Standard Errors assume that the covariance matrix of the errors is correctly specified.\n",
      "[2] The condition number is large, 1.35e+11. This might indicate that there are\n",
      "strong multicollinearity or other numerical problems.\n"
     ]
    }
   ],
   "source": [
    "lm_ols = smf.ols(formula = 'pct_walking_and_public_transit ~ \\\n",
    "                                vehicles_per_worker + \\\n",
    "                                roads_length + \\\n",
    "                                intersections + \\\n",
    "                                total_population + \\\n",
    "                                pct_unemployed + \\\n",
    "                                land_area + \\\n",
    "                                ttl_households + \\\n",
    "                                land_area',\n",
    "data = df).fit()\n",
    "print (lm_ols.summary())"
   ]
  },
  {
   "cell_type": "code",
   "execution_count": 11,
   "metadata": {},
   "outputs": [
    {
     "name": "stdout",
     "output_type": "stream",
     "text": [
      "                                  OLS Regression Results                                  \n",
      "==========================================================================================\n",
      "Dep. Variable:     pct_walking_and_public_transit   R-squared:                       0.848\n",
      "Model:                                        OLS   Adj. R-squared:                  0.848\n",
      "Method:                             Least Squares   F-statistic:                 7.496e+05\n",
      "Date:                            Tue, 20 Dec 2022   Prob (F-statistic):               0.00\n",
      "Time:                                    09:58:13   Log-Likelihood:             2.3478e+06\n",
      "No. Observations:                         1076734   AIC:                        -4.696e+06\n",
      "Df Residuals:                             1076725   BIC:                        -4.695e+06\n",
      "Df Model:                                       8                                         \n",
      "Covariance Type:                        nonrobust                                         \n",
      "============================================================================================\n",
      "                               coef    std err          t      P>|t|      [0.025      0.975]\n",
      "--------------------------------------------------------------------------------------------\n",
      "Intercept                    0.7196      0.000   2035.459      0.000       0.719       0.720\n",
      "vehicles_per_worker         -0.7983      0.000  -1963.788      0.000      -0.799      -0.798\n",
      "roads_length             -1.022e-09   1.51e-11    -67.796      0.000   -1.05e-09   -9.92e-10\n",
      "intersections            -4.371e-07   4.72e-09    -92.565      0.000   -4.46e-07   -4.28e-07\n",
      "total_population         -7.115e-08   4.74e-10   -150.170      0.000   -7.21e-08   -7.02e-08\n",
      "pct_unemployed               0.0017    1.4e-05    120.462      0.000       0.002       0.002\n",
      "land_area                 3.915e-14   5.63e-15      6.952      0.000    2.81e-14    5.02e-14\n",
      "ttl_households            2.591e-07   1.39e-09    186.795      0.000    2.56e-07    2.62e-07\n",
      "cbp_total_establishments  6.455e-08   4.88e-08      1.323      0.186   -3.11e-08     1.6e-07\n",
      "==============================================================================\n",
      "Omnibus:                   313043.088   Durbin-Watson:                   0.008\n",
      "Prob(Omnibus):                  0.000   Jarque-Bera (JB):          6099740.919\n",
      "Skew:                           0.916   Prob(JB):                         0.00\n",
      "Kurtosis:                      14.516   Cond. No.                     1.35e+11\n",
      "==============================================================================\n",
      "\n",
      "Notes:\n",
      "[1] Standard Errors assume that the covariance matrix of the errors is correctly specified.\n",
      "[2] The condition number is large, 1.35e+11. This might indicate that there are\n",
      "strong multicollinearity or other numerical problems.\n"
     ]
    }
   ],
   "source": [
    "lm_ols = smf.ols(formula = 'pct_walking_and_public_transit ~ \\\n",
    "                                vehicles_per_worker + \\\n",
    "                                roads_length + \\\n",
    "                                intersections + \\\n",
    "                                total_population + \\\n",
    "                                pct_unemployed + \\\n",
    "                                land_area + \\\n",
    "                                ttl_households + \\\n",
    "                                land_area + \\\n",
    "                                cbp_total_establishments',\n",
    "data = df).fit()\n",
    "print (lm_ols.summary())"
   ]
  },
  {
   "cell_type": "code",
   "execution_count": 12,
   "metadata": {},
   "outputs": [
    {
     "name": "stdout",
     "output_type": "stream",
     "text": [
      "                                  OLS Regression Results                                  \n",
      "==========================================================================================\n",
      "Dep. Variable:     pct_walking_and_public_transit   R-squared:                       0.848\n",
      "Model:                                        OLS   Adj. R-squared:                  0.848\n",
      "Method:                             Least Squares   F-statistic:                 6.664e+05\n",
      "Date:                            Tue, 20 Dec 2022   Prob (F-statistic):               0.00\n",
      "Time:                                    09:58:15   Log-Likelihood:             2.3478e+06\n",
      "No. Observations:                         1076734   AIC:                        -4.696e+06\n",
      "Df Residuals:                             1076724   BIC:                        -4.696e+06\n",
      "Df Model:                                       9                                         \n",
      "Covariance Type:                        nonrobust                                         \n",
      "============================================================================================\n",
      "                               coef    std err          t      P>|t|      [0.025      0.975]\n",
      "--------------------------------------------------------------------------------------------\n",
      "Intercept                    0.7196      0.000   2035.575      0.000       0.719       0.720\n",
      "vehicles_per_worker         -0.7983      0.000  -1963.878      0.000      -0.799      -0.798\n",
      "roads_length             -1.022e-09   1.51e-11    -67.768      0.000   -1.05e-09   -9.92e-10\n",
      "intersections            -4.374e-07   4.72e-09    -92.641      0.000   -4.47e-07   -4.28e-07\n",
      "total_population         -7.089e-08   4.74e-10   -149.434      0.000   -7.18e-08      -7e-08\n",
      "pct_unemployed               0.0017    1.4e-05    120.445      0.000       0.002       0.002\n",
      "land_area                 3.915e-14   5.63e-15      6.952      0.000    2.81e-14    5.02e-14\n",
      "ttl_households            2.584e-07   1.39e-09    186.031      0.000    2.56e-07    2.61e-07\n",
      "cbp_total_establishments -1.495e-06   1.59e-07     -9.424      0.000   -1.81e-06   -1.18e-06\n",
      "cbp_total_employees       9.877e-08   9.56e-09     10.332      0.000       8e-08    1.18e-07\n",
      "==============================================================================\n",
      "Omnibus:                   313143.922   Durbin-Watson:                   0.008\n",
      "Prob(Omnibus):                  0.000   Jarque-Bera (JB):          6102898.805\n",
      "Skew:                           0.916   Prob(JB):                         0.00\n",
      "Kurtosis:                      14.518   Cond. No.                     1.35e+11\n",
      "==============================================================================\n",
      "\n",
      "Notes:\n",
      "[1] Standard Errors assume that the covariance matrix of the errors is correctly specified.\n",
      "[2] The condition number is large, 1.35e+11. This might indicate that there are\n",
      "strong multicollinearity or other numerical problems.\n"
     ]
    }
   ],
   "source": [
    "lm_ols = smf.ols(formula = 'pct_walking_and_public_transit ~ \\\n",
    "                                vehicles_per_worker + \\\n",
    "                                roads_length + \\\n",
    "                                intersections + \\\n",
    "                                total_population + \\\n",
    "                                pct_unemployed + \\\n",
    "                                land_area + \\\n",
    "                                ttl_households + \\\n",
    "                                land_area + \\\n",
    "                                cbp_total_establishments + cbp_total_employees',\n",
    "data = df).fit()\n",
    "print (lm_ols.summary())"
   ]
  },
  {
   "cell_type": "code",
   "execution_count": 19,
   "metadata": {},
   "outputs": [
    {
     "name": "stdout",
     "output_type": "stream",
     "text": [
      "                                  OLS Regression Results                                  \n",
      "==========================================================================================\n",
      "Dep. Variable:     pct_walking_and_public_transit   R-squared:                       0.906\n",
      "Model:                                        OLS   Adj. R-squared:                  0.906\n",
      "Method:                             Least Squares   F-statistic:                 3.483e+05\n",
      "Date:                            Tue, 20 Dec 2022   Prob (F-statistic):               0.00\n",
      "Time:                                    09:58:46   Log-Likelihood:             1.2554e+06\n",
      "No. Observations:                          576488   AIC:                        -2.511e+06\n",
      "Df Residuals:                              576471   BIC:                        -2.511e+06\n",
      "Df Model:                                      16                                         \n",
      "Covariance Type:                        nonrobust                                         \n",
      "=============================================================================================\n",
      "                                coef    std err          t      P>|t|      [0.025      0.975]\n",
      "---------------------------------------------------------------------------------------------\n",
      "Intercept                     0.7764      0.000   1918.699      0.000       0.776       0.777\n",
      "vehicles_per_worker          -0.8637      0.000  -1865.206      0.000      -0.865      -0.863\n",
      "roads_length              -1.587e-09   1.87e-11    -85.035      0.000   -1.62e-09   -1.55e-09\n",
      "intersections             -3.151e-07   5.29e-09    -59.546      0.000   -3.26e-07   -3.05e-07\n",
      "total_population          -4.485e-08   5.03e-10    -89.122      0.000   -4.58e-08   -4.39e-08\n",
      "pct_unemployed                0.0017   2.05e-05     84.662      0.000       0.002       0.002\n",
      "land_area                 -4.542e-15   6.26e-15     -0.726      0.468   -1.68e-14    7.73e-15\n",
      "ttl_households             1.769e-07   1.48e-09    119.773      0.000    1.74e-07     1.8e-07\n",
      "cbp_num_employees_5       -2.302e-06   3.34e-07     -6.886      0.000   -2.96e-06   -1.65e-06\n",
      "cbp_num_employees_5_9      2.121e-05   3.29e-06      6.454      0.000    1.48e-05    2.77e-05\n",
      "cbp_num_employees_10_19    -2.07e-05   6.17e-06     -3.353      0.001   -3.28e-05    -8.6e-06\n",
      "cbp_num_employees_20_49    2.228e-05   5.53e-06      4.029      0.000    1.14e-05    3.31e-05\n",
      "cbp_num_employees_50_99   -5.357e-05   1.35e-05     -3.960      0.000   -8.01e-05   -2.71e-05\n",
      "cbp_num_employees_100_249 -5.131e-05   1.74e-05     -2.941      0.003   -8.55e-05   -1.71e-05\n",
      "cbp_num_employees_250_499 -2.452e-05    4.7e-05     -0.522      0.602      -0.000    6.76e-05\n",
      "cbp_num_employees_500_999     0.0004   9.17e-05      4.791      0.000       0.000       0.001\n",
      "cbp_num_employees_1000        0.0003   8.86e-05      3.521      0.000       0.000       0.000\n",
      "==============================================================================\n",
      "Omnibus:                    95061.986   Durbin-Watson:                   0.007\n",
      "Prob(Omnibus):                  0.000   Jarque-Bera (JB):          2014373.801\n",
      "Skew:                           0.019   Prob(JB):                         0.00\n",
      "Kurtosis:                      12.158   Cond. No.                     1.32e+11\n",
      "==============================================================================\n",
      "\n",
      "Notes:\n",
      "[1] Standard Errors assume that the covariance matrix of the errors is correctly specified.\n",
      "[2] The condition number is large, 1.32e+11. This might indicate that there are\n",
      "strong multicollinearity or other numerical problems.\n"
     ]
    }
   ],
   "source": [
    "lm_ols = smf.ols(formula = 'pct_walking_and_public_transit ~ \\\n",
    "                                vehicles_per_worker + \\\n",
    "                                roads_length + \\\n",
    "                                intersections + \\\n",
    "                                total_population + \\\n",
    "                                pct_unemployed + \\\n",
    "                                land_area + \\\n",
    "                                ttl_households + \\\n",
    "                                land_area + \\\n",
    "                                cbp_num_employees_5 + \\\n",
    "                                cbp_num_employees_5_9 + \\\n",
    "                                cbp_num_employees_10_19 + \\\n",
    "                                cbp_num_employees_20_49 + \\\n",
    "                                cbp_num_employees_50_99 + \\\n",
    "                                cbp_num_employees_100_249 + \\\n",
    "                                cbp_num_employees_250_499 + \\\n",
    "                                cbp_num_employees_500_999 + \\\n",
    "                                cbp_num_employees_1000',\n",
    "data = df).fit()\n",
    "print (lm_ols.summary())\n",
    "# lm_ols = smf.ols(formula = 'pct_walking_and_public_transit ~ \\\n",
    "#                                 vehicles_per_worker + \\\n",
    "#                                 roads_length + \\\n",
    "#                                 intersections + \\\n",
    "#                                 total_population + \\\n",
    "#                                 pct_unemployed + \\\n",
    "#                                 land_area + \\\n",
    "#                                 ttl_households + \\\n",
    "#                                 land_area + \\\n",
    "#                                 cbp_num_employees_5 ',\n",
    "# data = df).fit()\n",
    "# print (lm_ols.summary())"
   ]
  },
  {
   "cell_type": "code",
   "execution_count": 14,
   "metadata": {},
   "outputs": [
    {
     "name": "stdout",
     "output_type": "stream",
     "text": [
      "                                  OLS Regression Results                                  \n",
      "==========================================================================================\n",
      "Dep. Variable:     pct_walking_and_public_transit   R-squared:                       0.846\n",
      "Model:                                        OLS   Adj. R-squared:                  0.846\n",
      "Method:                             Least Squares   F-statistic:                 8.432e+05\n",
      "Date:                            Tue, 20 Dec 2022   Prob (F-statistic):               0.00\n",
      "Time:                                    09:58:17   Log-Likelihood:             2.3406e+06\n",
      "No. Observations:                         1076734   AIC:                        -4.681e+06\n",
      "Df Residuals:                             1076726   BIC:                        -4.681e+06\n",
      "Df Model:                                       7                                         \n",
      "Covariance Type:                        nonrobust                                         \n",
      "=======================================================================================\n",
      "                          coef    std err          t      P>|t|      [0.025      0.975]\n",
      "---------------------------------------------------------------------------------------\n",
      "Intercept               0.7263      0.000   2066.128      0.000       0.726       0.727\n",
      "vehicles_per_worker    -0.7963      0.000  -1947.392      0.000      -0.797      -0.796\n",
      "roads_length        -9.771e-10   1.52e-11    -64.406      0.000   -1.01e-09   -9.47e-10\n",
      "intersections        -4.49e-07   4.75e-09    -94.476      0.000   -4.58e-07    -4.4e-07\n",
      "total_population     -7.16e-08   4.77e-10   -150.115      0.000   -7.25e-08   -7.07e-08\n",
      "land_area            1.207e-13   5.63e-15     21.438      0.000     1.1e-13    1.32e-13\n",
      "ttl_households       2.613e-07    1.4e-09    187.104      0.000    2.59e-07    2.64e-07\n",
      "cbp_num_employees_5   8.79e-09   8.34e-08      0.105      0.916   -1.55e-07    1.72e-07\n",
      "==============================================================================\n",
      "Omnibus:                   316383.633   Durbin-Watson:                   0.007\n",
      "Prob(Omnibus):                  0.000   Jarque-Bera (JB):          5616048.215\n",
      "Skew:                           0.958   Prob(JB):                         0.00\n",
      "Kurtosis:                      14.023   Cond. No.                     1.35e+11\n",
      "==============================================================================\n",
      "\n",
      "Notes:\n",
      "[1] Standard Errors assume that the covariance matrix of the errors is correctly specified.\n",
      "[2] The condition number is large, 1.35e+11. This might indicate that there are\n",
      "strong multicollinearity or other numerical problems.\n"
     ]
    }
   ],
   "source": [
    "\n",
    "lm_ols = smf.ols(formula = 'pct_walking_and_public_transit ~ \\\n",
    "                                vehicles_per_worker + \\\n",
    "                                roads_length + \\\n",
    "                                intersections + \\\n",
    "                                total_population + \\\n",
    "                                land_area + \\\n",
    "                                ttl_households + \\\n",
    "                                land_area + \\\n",
    "                                cbp_num_employees_5 ',\n",
    "data = df).fit()\n",
    "print (lm_ols.summary())"
   ]
  },
  {
   "attachments": {},
   "cell_type": "markdown",
   "metadata": {},
   "source": [
    "# LASSO REGRESSION"
   ]
  },
  {
   "cell_type": "code",
   "execution_count": 15,
   "metadata": {},
   "outputs": [],
   "source": [
    "from sklearn.model_selection import train_test_split\n",
    "from sklearn.linear_model import LinearRegression\n",
    "from sklearn.linear_model import Ridge\n",
    "from sklearn.linear_model import Lasso\n",
    "from sklearn.model_selection import cross_val_score\n",
    "# from sklearn.linear_model import ElasticNet\n",
    "# model = ElasticNet(alpha=1.0, l1_ratio=0.5)\n",
    "from sklearn import preprocessing\n",
    "scaler = preprocessing.StandardScaler()\n",
    "\n",
    "# X = df['pct_walking_and_public_transit']\n",
    "# y = df[['vehicles_per_worker','roads_length','intersections','total_population','average_commute_time_per_worker_drive_alone','pct_unemployed','land_area']]\n",
    "\n",
    "df = df.dropna(subset=['pct_walking_and_public_transit','vehicles_per_worker','roads_length','intersections','total_population','average_commute_time_per_worker_drive_alone','pct_unemployed','land_area','cbp_total_employees', 'cbp_total_establishments'])\n",
    "\n",
    "X = df[['vehicles_per_worker','roads_length','intersections','total_population','average_commute_time_per_worker_drive_alone','pct_unemployed','land_area','cbp_total_employees', 'cbp_total_establishments']]\n",
    "y = df['pct_walking_and_public_transit']"
   ]
  },
  {
   "cell_type": "code",
   "execution_count": 16,
   "metadata": {},
   "outputs": [],
   "source": [
    "\n",
    "# Here, I standardize by X data using StandardScalar\n",
    "X_train, X_test, y_train, y_test = train_test_split(X, y)\n",
    "# scaler.fit(X_test)\n",
    "# X_test_scaled = scaler.transform(X_test)\n",
    "# scaler.fit(X_train)\n",
    "# X_train_scaled = scaler.transform(X_train)\n",
    "\n",
    "scaler = preprocessing.StandardScaler().fit(X_train)\n",
    "X_train_scaled = scaler.transform(X_train)\n",
    "X_test_scaled = scaler.transform(X_test)"
   ]
  },
  {
   "cell_type": "code",
   "execution_count": 17,
   "metadata": {},
   "outputs": [
    {
     "name": "stdout",
     "output_type": "stream",
     "text": [
      "LASSO REGRESSION (UNSCALED DATA)\n",
      "Training set score: 0.228\n",
      "Test set score: 0.230\n",
      "Mean Cross-Validation, Kfold: 0.228\n",
      "Mean MAE: 3.711 (0.549)\n"
     ]
    }
   ],
   "source": [
    "lasso = Lasso().fit(X_train, y_train) # Fit the training data to a lasso regression line with alpha = 0.01 and 100,000 iterations\n",
    "\n",
    "print(\"LASSO REGRESSION (UNSCALED DATA)\") # LASSO is L1 penalty, which adds “absolute value of magnitude” of coefficient as penalty term to the loss function. Good for feature selection when you have a lot of features.\n",
    "print(\"Training set score: {:.3f}\".format(lasso.score(X_train, y_train)))\n",
    "print(\"Test set score: {:.3f}\".format(lasso.score(X_test, y_test)))\n",
    "\n",
    "# Kfold cross validation\n",
    "print(\"Mean Cross-Validation, Kfold: {:.3f}\".format(np.mean(cross_val_score(lasso, X_train, y_train))))\n",
    "\n",
    "lasso_unscaled = np.mean(cross_val_score(lasso, X_train, y_train)) # Will use later to compare results\n",
    "\n",
    "# define model\n",
    "model = Lasso(alpha=1.0)\n",
    "\n",
    "# evaluate an lasso regression model on the dataset\n",
    "from numpy import mean\n",
    "from numpy import std\n",
    "from numpy import absolute\n",
    "from pandas import read_csv\n",
    "from sklearn.model_selection import cross_val_score\n",
    "from sklearn.model_selection import RepeatedKFold\n",
    "from sklearn.linear_model import Lasso\n",
    "# load the dataset\n",
    "url = 'https://raw.githubusercontent.com/jbrownlee/Datasets/master/housing.csv'\n",
    "dataframe = read_csv(url, header=None)\n",
    "data = dataframe.values\n",
    "X, y = data[:, :-1], data[:, -1]\n",
    "# define model\n",
    "model = Lasso(alpha=1.0)\n",
    "# define model evaluation method\n",
    "cv = RepeatedKFold(n_splits=10, n_repeats=3, random_state=1)\n",
    "# evaluate model\n",
    "scores = cross_val_score(model, X, y, scoring='neg_mean_absolute_error', cv=cv, n_jobs=-1)\n",
    "# force scores to be positive\n",
    "scores = absolute(scores)\n",
    "print('Mean MAE: %.3f (%.3f)' % (mean(scores), std(scores)))"
   ]
  },
  {
   "cell_type": "code",
   "execution_count": 18,
   "metadata": {},
   "outputs": [
    {
     "name": "stdout",
     "output_type": "stream",
     "text": [
      "(506, 14)\n",
      "        0     1     2   3      4      5     6       7   8      9     10  \\\n",
      "0  0.00632  18.0  2.31   0  0.538  6.575  65.2  4.0900   1  296.0  15.3   \n",
      "1  0.02731   0.0  7.07   0  0.469  6.421  78.9  4.9671   2  242.0  17.8   \n",
      "2  0.02729   0.0  7.07   0  0.469  7.185  61.1  4.9671   2  242.0  17.8   \n",
      "3  0.03237   0.0  2.18   0  0.458  6.998  45.8  6.0622   3  222.0  18.7   \n",
      "4  0.06905   0.0  2.18   0  0.458  7.147  54.2  6.0622   3  222.0  18.7   \n",
      "\n",
      "       11    12    13  \n",
      "0  396.90  4.98  24.0  \n",
      "1  396.90  9.14  21.6  \n",
      "2  392.83  4.03  34.7  \n",
      "3  394.63  2.94  33.4  \n",
      "4  396.90  5.33  36.2  \n"
     ]
    }
   ],
   "source": [
    "# load and summarize the housing dataset\n",
    "from pandas import read_csv\n",
    "from matplotlib import pyplot\n",
    "# load dataset\n",
    "url = 'https://raw.githubusercontent.com/jbrownlee/Datasets/master/housing.csv'\n",
    "dataframe = read_csv(url, header=None)\n",
    "# summarize shape\n",
    "print(dataframe.shape)\n",
    "# summarize first few lines\n",
    "print(dataframe.head())"
   ]
  }
 ],
 "metadata": {
  "kernelspec": {
   "display_name": "base",
   "language": "python",
   "name": "python3"
  },
  "language_info": {
   "codemirror_mode": {
    "name": "ipython",
    "version": 3
   },
   "file_extension": ".py",
   "mimetype": "text/x-python",
   "name": "python",
   "nbconvert_exporter": "python",
   "pygments_lexer": "ipython3",
   "version": "3.9.13"
  },
  "orig_nbformat": 4,
  "vscode": {
   "interpreter": {
    "hash": "b8b887db99f8edfa7f3e3a008cc1b31fa63afeb09acb3c9f070418078094f7b2"
   }
  }
 },
 "nbformat": 4,
 "nbformat_minor": 2
}
