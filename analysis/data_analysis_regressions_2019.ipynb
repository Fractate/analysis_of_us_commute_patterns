{
 "cells": [
  {
   "cell_type": "code",
   "execution_count": 25,
   "metadata": {},
   "outputs": [],
   "source": [
    "# Init\n",
    "# choropleth\n",
    "from __future__ import division\n",
    "import pandas as pd\n",
    "import numpy as np\n",
    "import statsmodels.api as sm\n",
    "import statsmodels.formula.api as smf\n",
    "import os\n",
    "import matplotlib.pyplot as plt\n",
    "import seaborn as sns"
   ]
  },
  {
   "attachments": {},
   "cell_type": "markdown",
   "metadata": {},
   "source": [
    "# County level data retrieval"
   ]
  },
  {
   "cell_type": "code",
   "execution_count": 26,
   "metadata": {},
   "outputs": [
    {
     "name": "stdout",
     "output_type": "stream",
     "text": [
      "['Unnamed: 0', 'Unnamed: 0_x', 'fips', 'Geo_NAME', 'Geo_QName', 'Geo_STUSAB', 'Geo_SUMLEV', 'Geo_GEOCOMP', 'Geo_FILEID', 'Geo_LOGRECNO', 'Geo_US', 'Geo_REGION', 'Geo_DIVISION', 'Geo_STATECE', 'Geo_STATE', 'Geo_COUNTY', 'Geo_COUSUB', 'Geo_PLACE', 'Geo_PLACESE', 'Geo_TRACT', 'Geo_BLKGRP', 'Geo_CONCIT', 'Geo_AIANHH', 'Geo_AIANHHFP', 'Geo_AIHHTLI', 'Geo_AITSCE', 'Geo_AITS', 'Geo_ANRC', 'Geo_CBSA', 'Geo_CSA', 'Geo_METDIV', 'Geo_MACC', 'Geo_MEMI', 'Geo_NECTA', 'Geo_CNECTA', 'Geo_NECTADIV', 'Geo_UA', 'Geo_UACP', 'Geo_CDCURR', 'Geo_SLDU', 'Geo_SLDL', 'Geo_VTD', 'Geo_ZCTA3', 'Geo_ZCTA5', 'Geo_SUBMCD', 'Geo_SDELM', 'Geo_SDSEC', 'Geo_SDUNI', 'Geo_UR', 'Geo_PCI', 'Geo_TAZ', 'Geo_UGA', 'Geo_PUMA5', 'Geo_PUMA1', 'Geo_GEOID', 'Geo_BTTR', 'Geo_BTBG', 'Geo_AREALAND', 'Geo_AREAWATR', 'ACS19_5yr_B01001001', 'ACS19_5yr_B01001002', 'ACS19_5yr_B01001003', 'ACS19_5yr_B01001004', 'ACS19_5yr_B01001005', 'ACS19_5yr_B01001006', 'ACS19_5yr_B01001007', 'ACS19_5yr_B01001008', 'ACS19_5yr_B01001009', 'ACS19_5yr_B01001010', 'ACS19_5yr_B01001011', 'ACS19_5yr_B01001012', 'ACS19_5yr_B01001013', 'ACS19_5yr_B01001014', 'ACS19_5yr_B01001015', 'ACS19_5yr_B01001016', 'ACS19_5yr_B01001017', 'ACS19_5yr_B01001018', 'ACS19_5yr_B01001019', 'ACS19_5yr_B01001020', 'ACS19_5yr_B01001021', 'ACS19_5yr_B01001022', 'ACS19_5yr_B01001023', 'ACS19_5yr_B01001024', 'ACS19_5yr_B01001025', 'ACS19_5yr_B01001026', 'ACS19_5yr_B01001027', 'ACS19_5yr_B01001028', 'ACS19_5yr_B01001029', 'ACS19_5yr_B01001030', 'ACS19_5yr_B01001031', 'ACS19_5yr_B01001032', 'ACS19_5yr_B01001033', 'ACS19_5yr_B01001034', 'ACS19_5yr_B01001035', 'ACS19_5yr_B01001036', 'ACS19_5yr_B01001037', 'ACS19_5yr_B01001038', 'ACS19_5yr_B01001039', 'ACS19_5yr_B01001040', 'ACS19_5yr_B01001041', 'ACS19_5yr_B01001042', 'ACS19_5yr_B01001043', 'ACS19_5yr_B01001044', 'ACS19_5yr_B01001045', 'ACS19_5yr_B01001046', 'ACS19_5yr_B01001047', 'ACS19_5yr_B01001048', 'ACS19_5yr_B01001049', 'ACS19_5yr_B01001001s', 'ACS19_5yr_B01001002s', 'ACS19_5yr_B01001003s', 'ACS19_5yr_B01001004s', 'ACS19_5yr_B01001005s', 'ACS19_5yr_B01001006s', 'ACS19_5yr_B01001007s', 'ACS19_5yr_B01001008s', 'ACS19_5yr_B01001009s', 'ACS19_5yr_B01001010s', 'ACS19_5yr_B01001011s', 'ACS19_5yr_B01001012s', 'ACS19_5yr_B01001013s', 'ACS19_5yr_B01001014s', 'ACS19_5yr_B01001015s', 'ACS19_5yr_B01001016s', 'ACS19_5yr_B01001017s', 'ACS19_5yr_B01001018s', 'ACS19_5yr_B01001019s', 'ACS19_5yr_B01001020s', 'ACS19_5yr_B01001021s', 'ACS19_5yr_B01001022s', 'ACS19_5yr_B01001023s', 'ACS19_5yr_B01001024s', 'ACS19_5yr_B01001025s', 'ACS19_5yr_B01001026s', 'ACS19_5yr_B01001027s', 'ACS19_5yr_B01001028s', 'ACS19_5yr_B01001029s', 'ACS19_5yr_B01001030s', 'ACS19_5yr_B01001031s', 'ACS19_5yr_B01001032s', 'ACS19_5yr_B01001033s', 'ACS19_5yr_B01001034s', 'ACS19_5yr_B01001035s', 'ACS19_5yr_B01001036s', 'ACS19_5yr_B01001037s', 'ACS19_5yr_B01001038s', 'ACS19_5yr_B01001039s', 'ACS19_5yr_B01001040s', 'ACS19_5yr_B01001041s', 'ACS19_5yr_B01001042s', 'ACS19_5yr_B01001043s', 'ACS19_5yr_B01001044s', 'ACS19_5yr_B01001045s', 'ACS19_5yr_B01001046s', 'ACS19_5yr_B01001047s', 'ACS19_5yr_B01001048s', 'ACS19_5yr_B01001049s', 'PCT_ACS19_5yr_B01001002', 'PCT_ACS19_5yr_B01001003', 'PCT_ACS19_5yr_B01001004', 'PCT_ACS19_5yr_B01001005', 'PCT_ACS19_5yr_B01001006', 'PCT_ACS19_5yr_B01001007', 'PCT_ACS19_5yr_B01001008', 'PCT_ACS19_5yr_B01001009', 'PCT_ACS19_5yr_B01001010', 'PCT_ACS19_5yr_B01001011', 'PCT_ACS19_5yr_B01001012', 'PCT_ACS19_5yr_B01001013', 'PCT_ACS19_5yr_B01001014', 'PCT_ACS19_5yr_B01001015', 'PCT_ACS19_5yr_B01001016', 'PCT_ACS19_5yr_B01001017', 'PCT_ACS19_5yr_B01001018', 'PCT_ACS19_5yr_B01001019', 'PCT_ACS19_5yr_B01001020', 'PCT_ACS19_5yr_B01001021', 'PCT_ACS19_5yr_B01001022', 'PCT_ACS19_5yr_B01001023', 'PCT_ACS19_5yr_B01001024', 'PCT_ACS19_5yr_B01001025', 'PCT_ACS19_5yr_B01001026', 'PCT_ACS19_5yr_B01001027', 'PCT_ACS19_5yr_B01001028', 'PCT_ACS19_5yr_B01001029', 'PCT_ACS19_5yr_B01001030', 'PCT_ACS19_5yr_B01001031', 'PCT_ACS19_5yr_B01001032', 'PCT_ACS19_5yr_B01001033', 'PCT_ACS19_5yr_B01001034', 'PCT_ACS19_5yr_B01001035', 'PCT_ACS19_5yr_B01001036', 'PCT_ACS19_5yr_B01001037', 'PCT_ACS19_5yr_B01001038', 'PCT_ACS19_5yr_B01001039', 'PCT_ACS19_5yr_B01001040', 'PCT_ACS19_5yr_B01001041', 'PCT_ACS19_5yr_B01001042', 'PCT_ACS19_5yr_B01001043', 'PCT_ACS19_5yr_B01001044', 'PCT_ACS19_5yr_B01001045', 'PCT_ACS19_5yr_B01001046', 'PCT_ACS19_5yr_B01001047', 'PCT_ACS19_5yr_B01001048', 'PCT_ACS19_5yr_B01001049', 'ACS19_5yr_B08014001', 'ACS19_5yr_B08014002', 'ACS19_5yr_B08014003', 'ACS19_5yr_B08014004', 'ACS19_5yr_B08014005', 'ACS19_5yr_B08014006', 'ACS19_5yr_B08014007', 'ACS19_5yr_B08014008', 'ACS19_5yr_B08014009', 'ACS19_5yr_B08014010', 'ACS19_5yr_B08014011', 'ACS19_5yr_B08014012', 'ACS19_5yr_B08014013', 'ACS19_5yr_B08014014', 'ACS19_5yr_B08014015', 'ACS19_5yr_B08014016', 'ACS19_5yr_B08014017', 'ACS19_5yr_B08014018', 'ACS19_5yr_B08014019', 'ACS19_5yr_B08014020', 'ACS19_5yr_B08014021', 'ACS19_5yr_B08014001s', 'ACS19_5yr_B08014002s', 'ACS19_5yr_B08014003s', 'ACS19_5yr_B08014004s', 'ACS19_5yr_B08014005s', 'ACS19_5yr_B08014006s', 'ACS19_5yr_B08014007s', 'ACS19_5yr_B08014008s', 'ACS19_5yr_B08014009s', 'ACS19_5yr_B08014010s', 'ACS19_5yr_B08014011s', 'ACS19_5yr_B08014012s', 'ACS19_5yr_B08014013s', 'ACS19_5yr_B08014014s', 'ACS19_5yr_B08014015s', 'ACS19_5yr_B08014016s', 'ACS19_5yr_B08014017s', 'ACS19_5yr_B08014018s', 'ACS19_5yr_B08014019s', 'ACS19_5yr_B08014020s', 'ACS19_5yr_B08014021s', 'PCT_ACS19_5yr_B08014002', 'PCT_ACS19_5yr_B08014003', 'PCT_ACS19_5yr_B08014004', 'PCT_ACS19_5yr_B08014005', 'PCT_ACS19_5yr_B08014006', 'PCT_ACS19_5yr_B08014007', 'PCT_ACS19_5yr_B08014008', 'PCT_ACS19_5yr_B08014009', 'PCT_ACS19_5yr_B08014010', 'PCT_ACS19_5yr_B08014011', 'PCT_ACS19_5yr_B08014012', 'PCT_ACS19_5yr_B08014013', 'PCT_ACS19_5yr_B08014014', 'PCT_ACS19_5yr_B08014015', 'PCT_ACS19_5yr_B08014016', 'PCT_ACS19_5yr_B08014017', 'PCT_ACS19_5yr_B08014018', 'PCT_ACS19_5yr_B08014019', 'PCT_ACS19_5yr_B08014020', 'PCT_ACS19_5yr_B08014021', 'ACS19_5yr_B08015001', 'ACS19_5yr_B08015002', 'ACS19_5yr_B08015003', 'ACS19_5yr_B08015001s', 'ACS19_5yr_B08015002s', 'ACS19_5yr_B08015003s', 'PCT_ACS19_5yr_B08015002', 'PCT_ACS19_5yr_B08015003', 'ACS19_5yr_B08134001', 'ACS19_5yr_B08134002', 'ACS19_5yr_B08134003', 'ACS19_5yr_B08134004', 'ACS19_5yr_B08134005', 'ACS19_5yr_B08134006', 'ACS19_5yr_B08134007', 'ACS19_5yr_B08134008', 'ACS19_5yr_B08134009', 'ACS19_5yr_B08134010', 'ACS19_5yr_B08134011', 'ACS19_5yr_B08134012', 'ACS19_5yr_B08134013', 'ACS19_5yr_B08134014', 'ACS19_5yr_B08134015', 'ACS19_5yr_B08134016', 'ACS19_5yr_B08134017', 'ACS19_5yr_B08134018', 'ACS19_5yr_B08134019', 'ACS19_5yr_B08134020', 'ACS19_5yr_B08134021', 'ACS19_5yr_B08134022', 'ACS19_5yr_B08134023', 'ACS19_5yr_B08134024', 'ACS19_5yr_B08134025', 'ACS19_5yr_B08134026', 'ACS19_5yr_B08134027', 'ACS19_5yr_B08134028', 'ACS19_5yr_B08134029', 'ACS19_5yr_B08134030', 'ACS19_5yr_B08134031', 'ACS19_5yr_B08134032', 'ACS19_5yr_B08134033', 'ACS19_5yr_B08134034', 'ACS19_5yr_B08134035', 'ACS19_5yr_B08134036', 'ACS19_5yr_B08134037', 'ACS19_5yr_B08134038', 'ACS19_5yr_B08134039', 'ACS19_5yr_B08134040', 'ACS19_5yr_B08134041', 'ACS19_5yr_B08134042', 'ACS19_5yr_B08134043', 'ACS19_5yr_B08134044', 'ACS19_5yr_B08134045', 'ACS19_5yr_B08134046', 'ACS19_5yr_B08134047', 'ACS19_5yr_B08134048', 'ACS19_5yr_B08134049', 'ACS19_5yr_B08134050', 'ACS19_5yr_B08134051', 'ACS19_5yr_B08134052', 'ACS19_5yr_B08134053', 'ACS19_5yr_B08134054', 'ACS19_5yr_B08134055', 'ACS19_5yr_B08134056', 'ACS19_5yr_B08134057', 'ACS19_5yr_B08134058', 'ACS19_5yr_B08134059', 'ACS19_5yr_B08134060', 'ACS19_5yr_B08134061', 'ACS19_5yr_B08134062', 'ACS19_5yr_B08134063', 'ACS19_5yr_B08134064', 'ACS19_5yr_B08134065', 'ACS19_5yr_B08134066', 'ACS19_5yr_B08134067', 'ACS19_5yr_B08134068', 'ACS19_5yr_B08134069', 'ACS19_5yr_B08134070', 'ACS19_5yr_B08134071', 'ACS19_5yr_B08134072', 'ACS19_5yr_B08134073', 'ACS19_5yr_B08134074', 'ACS19_5yr_B08134075', 'ACS19_5yr_B08134076', 'ACS19_5yr_B08134077', 'ACS19_5yr_B08134078', 'ACS19_5yr_B08134079', 'ACS19_5yr_B08134080', 'ACS19_5yr_B08134081', 'ACS19_5yr_B08134082', 'ACS19_5yr_B08134083', 'ACS19_5yr_B08134084', 'ACS19_5yr_B08134085', 'ACS19_5yr_B08134086', 'ACS19_5yr_B08134087', 'ACS19_5yr_B08134088', 'ACS19_5yr_B08134089', 'ACS19_5yr_B08134090', 'ACS19_5yr_B08134091', 'ACS19_5yr_B08134092', 'ACS19_5yr_B08134093', 'ACS19_5yr_B08134094', 'ACS19_5yr_B08134095', 'ACS19_5yr_B08134096', 'ACS19_5yr_B08134097', 'ACS19_5yr_B08134098', 'ACS19_5yr_B08134099', 'ACS19_5yr_B08134100', 'ACS19_5yr_B08134101', 'ACS19_5yr_B08134102', 'ACS19_5yr_B08134103', 'ACS19_5yr_B08134104', 'ACS19_5yr_B08134105', 'ACS19_5yr_B08134106', 'ACS19_5yr_B08134107', 'ACS19_5yr_B08134108', 'ACS19_5yr_B08134109', 'ACS19_5yr_B08134110', 'ACS19_5yr_B08134111', 'ACS19_5yr_B08134112', 'ACS19_5yr_B08134113', 'ACS19_5yr_B08134114', 'ACS19_5yr_B08134115', 'ACS19_5yr_B08134116', 'ACS19_5yr_B08134117', 'ACS19_5yr_B08134118', 'ACS19_5yr_B08134119', 'ACS19_5yr_B08134120', 'ACS19_5yr_B08134001s', 'ACS19_5yr_B08134002s', 'ACS19_5yr_B08134003s', 'ACS19_5yr_B08134004s', 'ACS19_5yr_B08134005s', 'ACS19_5yr_B08134006s', 'ACS19_5yr_B08134007s', 'ACS19_5yr_B08134008s', 'ACS19_5yr_B08134009s', 'ACS19_5yr_B08134010s', 'ACS19_5yr_B08134011s', 'ACS19_5yr_B08134012s', 'ACS19_5yr_B08134013s', 'ACS19_5yr_B08134014s', 'ACS19_5yr_B08134015s', 'ACS19_5yr_B08134016s', 'ACS19_5yr_B08134017s', 'ACS19_5yr_B08134018s', 'ACS19_5yr_B08134019s', 'ACS19_5yr_B08134020s', 'ACS19_5yr_B08134021s', 'ACS19_5yr_B08134022s', 'ACS19_5yr_B08134023s', 'ACS19_5yr_B08134024s', 'ACS19_5yr_B08134025s', 'ACS19_5yr_B08134026s', 'ACS19_5yr_B08134027s', 'ACS19_5yr_B08134028s', 'ACS19_5yr_B08134029s', 'ACS19_5yr_B08134030s', 'ACS19_5yr_B08134031s', 'ACS19_5yr_B08134032s', 'ACS19_5yr_B08134033s', 'ACS19_5yr_B08134034s', 'ACS19_5yr_B08134035s', 'ACS19_5yr_B08134036s', 'ACS19_5yr_B08134037s', 'ACS19_5yr_B08134038s', 'ACS19_5yr_B08134039s', 'ACS19_5yr_B08134040s', 'ACS19_5yr_B08134041s', 'ACS19_5yr_B08134042s', 'ACS19_5yr_B08134043s', 'ACS19_5yr_B08134044s', 'ACS19_5yr_B08134045s', 'ACS19_5yr_B08134046s', 'ACS19_5yr_B08134047s', 'ACS19_5yr_B08134048s', 'ACS19_5yr_B08134049s', 'ACS19_5yr_B08134050s', 'ACS19_5yr_B08134051s', 'ACS19_5yr_B08134052s', 'ACS19_5yr_B08134053s', 'ACS19_5yr_B08134054s', 'ACS19_5yr_B08134055s', 'ACS19_5yr_B08134056s', 'ACS19_5yr_B08134057s', 'ACS19_5yr_B08134058s', 'ACS19_5yr_B08134059s', 'ACS19_5yr_B08134060s', 'ACS19_5yr_B08134061s', 'ACS19_5yr_B08134062s', 'ACS19_5yr_B08134063s', 'ACS19_5yr_B08134064s', 'ACS19_5yr_B08134065s', 'ACS19_5yr_B08134066s', 'ACS19_5yr_B08134067s', 'ACS19_5yr_B08134068s', 'ACS19_5yr_B08134069s', 'ACS19_5yr_B08134070s', 'ACS19_5yr_B08134071s', 'ACS19_5yr_B08134072s', 'ACS19_5yr_B08134073s', 'ACS19_5yr_B08134074s', 'ACS19_5yr_B08134075s', 'ACS19_5yr_B08134076s', 'ACS19_5yr_B08134077s', 'ACS19_5yr_B08134078s', 'ACS19_5yr_B08134079s', 'ACS19_5yr_B08134080s', 'ACS19_5yr_B08134081s', 'ACS19_5yr_B08134082s', 'ACS19_5yr_B08134083s', 'ACS19_5yr_B08134084s', 'ACS19_5yr_B08134085s', 'ACS19_5yr_B08134086s', 'ACS19_5yr_B08134087s', 'ACS19_5yr_B08134088s', 'ACS19_5yr_B08134089s', 'ACS19_5yr_B08134090s', 'ACS19_5yr_B08134091s', 'ACS19_5yr_B08134092s', 'ACS19_5yr_B08134093s', 'ACS19_5yr_B08134094s', 'ACS19_5yr_B08134095s', 'ACS19_5yr_B08134096s', 'ACS19_5yr_B08134097s', 'ACS19_5yr_B08134098s', 'ACS19_5yr_B08134099s', 'ACS19_5yr_B08134100s', 'ACS19_5yr_B08134101s', 'ACS19_5yr_B08134102s', 'ACS19_5yr_B08134103s', 'ACS19_5yr_B08134104s', 'ACS19_5yr_B08134105s', 'ACS19_5yr_B08134106s', 'ACS19_5yr_B08134107s', 'ACS19_5yr_B08134108s', 'ACS19_5yr_B08134109s', 'ACS19_5yr_B08134110s', 'ACS19_5yr_B08134111s', 'ACS19_5yr_B08134112s', 'ACS19_5yr_B08134113s', 'ACS19_5yr_B08134114s', 'ACS19_5yr_B08134115s', 'ACS19_5yr_B08134116s', 'ACS19_5yr_B08134117s', 'ACS19_5yr_B08134118s', 'ACS19_5yr_B08134119s', 'ACS19_5yr_B08134120s', 'PCT_ACS19_5yr_B08134002', 'PCT_ACS19_5yr_B08134003', 'PCT_ACS19_5yr_B08134004', 'PCT_ACS19_5yr_B08134005', 'PCT_ACS19_5yr_B08134006', 'PCT_ACS19_5yr_B08134007', 'PCT_ACS19_5yr_B08134008', 'PCT_ACS19_5yr_B08134009', 'PCT_ACS19_5yr_B08134010', 'PCT_ACS19_5yr_B08134011', 'PCT_ACS19_5yr_B08134012', 'PCT_ACS19_5yr_B08134013', 'PCT_ACS19_5yr_B08134014', 'PCT_ACS19_5yr_B08134015', 'PCT_ACS19_5yr_B08134016', 'PCT_ACS19_5yr_B08134017', 'PCT_ACS19_5yr_B08134018', 'PCT_ACS19_5yr_B08134019', 'PCT_ACS19_5yr_B08134020', 'PCT_ACS19_5yr_B08134021', 'PCT_ACS19_5yr_B08134022', 'PCT_ACS19_5yr_B08134023', 'PCT_ACS19_5yr_B08134024', 'PCT_ACS19_5yr_B08134025', 'PCT_ACS19_5yr_B08134026', 'PCT_ACS19_5yr_B08134027', 'PCT_ACS19_5yr_B08134028', 'PCT_ACS19_5yr_B08134029', 'PCT_ACS19_5yr_B08134030', 'PCT_ACS19_5yr_B08134031', 'PCT_ACS19_5yr_B08134032', 'PCT_ACS19_5yr_B08134033', 'PCT_ACS19_5yr_B08134034', 'PCT_ACS19_5yr_B08134035', 'PCT_ACS19_5yr_B08134036', 'PCT_ACS19_5yr_B08134037', 'PCT_ACS19_5yr_B08134038', 'PCT_ACS19_5yr_B08134039', 'PCT_ACS19_5yr_B08134040', 'PCT_ACS19_5yr_B08134041', 'PCT_ACS19_5yr_B08134042', 'PCT_ACS19_5yr_B08134043', 'PCT_ACS19_5yr_B08134044', 'PCT_ACS19_5yr_B08134045', 'PCT_ACS19_5yr_B08134046', 'PCT_ACS19_5yr_B08134047', 'PCT_ACS19_5yr_B08134048', 'PCT_ACS19_5yr_B08134049', 'PCT_ACS19_5yr_B08134050', 'PCT_ACS19_5yr_B08134051', 'PCT_ACS19_5yr_B08134052', 'PCT_ACS19_5yr_B08134053', 'PCT_ACS19_5yr_B08134054', 'PCT_ACS19_5yr_B08134055', 'PCT_ACS19_5yr_B08134056', 'PCT_ACS19_5yr_B08134057', 'PCT_ACS19_5yr_B08134058', 'PCT_ACS19_5yr_B08134059', 'PCT_ACS19_5yr_B08134060', 'PCT_ACS19_5yr_B08134061', 'PCT_ACS19_5yr_B08134062', 'PCT_ACS19_5yr_B08134063', 'PCT_ACS19_5yr_B08134064', 'PCT_ACS19_5yr_B08134065', 'PCT_ACS19_5yr_B08134066', 'PCT_ACS19_5yr_B08134067', 'PCT_ACS19_5yr_B08134068', 'PCT_ACS19_5yr_B08134069', 'PCT_ACS19_5yr_B08134070', 'PCT_ACS19_5yr_B08134071', 'PCT_ACS19_5yr_B08134072', 'PCT_ACS19_5yr_B08134073', 'PCT_ACS19_5yr_B08134074', 'PCT_ACS19_5yr_B08134075', 'PCT_ACS19_5yr_B08134076', 'PCT_ACS19_5yr_B08134077', 'PCT_ACS19_5yr_B08134078', 'PCT_ACS19_5yr_B08134079', 'PCT_ACS19_5yr_B08134080', 'PCT_ACS19_5yr_B08134081', 'PCT_ACS19_5yr_B08134082', 'PCT_ACS19_5yr_B08134083', 'PCT_ACS19_5yr_B08134084', 'PCT_ACS19_5yr_B08134085', 'PCT_ACS19_5yr_B08134086', 'PCT_ACS19_5yr_B08134087', 'PCT_ACS19_5yr_B08134088', 'PCT_ACS19_5yr_B08134089', 'PCT_ACS19_5yr_B08134090', 'PCT_ACS19_5yr_B08134091', 'PCT_ACS19_5yr_B08134092', 'PCT_ACS19_5yr_B08134093', 'PCT_ACS19_5yr_B08134094', 'PCT_ACS19_5yr_B08134095', 'PCT_ACS19_5yr_B08134096', 'PCT_ACS19_5yr_B08134097', 'PCT_ACS19_5yr_B08134098', 'PCT_ACS19_5yr_B08134099', 'PCT_ACS19_5yr_B08134100', 'PCT_ACS19_5yr_B08134101', 'PCT_ACS19_5yr_B08134102', 'PCT_ACS19_5yr_B08134103', 'PCT_ACS19_5yr_B08134104', 'PCT_ACS19_5yr_B08134105', 'PCT_ACS19_5yr_B08134106', 'PCT_ACS19_5yr_B08134107', 'PCT_ACS19_5yr_B08134108', 'PCT_ACS19_5yr_B08134109', 'PCT_ACS19_5yr_B08134110', 'PCT_ACS19_5yr_B08134111', 'PCT_ACS19_5yr_B08134112', 'PCT_ACS19_5yr_B08134113', 'PCT_ACS19_5yr_B08134114', 'PCT_ACS19_5yr_B08134115', 'PCT_ACS19_5yr_B08134116', 'PCT_ACS19_5yr_B08134117', 'PCT_ACS19_5yr_B08134118', 'PCT_ACS19_5yr_B08134119', 'PCT_ACS19_5yr_B08134120', 'ACS19_5yr_B08136001', 'ACS19_5yr_B08136002', 'ACS19_5yr_B08136003', 'ACS19_5yr_B08136004', 'ACS19_5yr_B08136005', 'ACS19_5yr_B08136006', 'ACS19_5yr_B08136007', 'ACS19_5yr_B08136008', 'ACS19_5yr_B08136009', 'ACS19_5yr_B08136010', 'ACS19_5yr_B08136011', 'ACS19_5yr_B08136012', 'ACS19_5yr_B08136001s', 'ACS19_5yr_B08136002s', 'ACS19_5yr_B08136003s', 'ACS19_5yr_B08136004s', 'ACS19_5yr_B08136005s', 'ACS19_5yr_B08136006s', 'ACS19_5yr_B08136007s', 'ACS19_5yr_B08136008s', 'ACS19_5yr_B08136009s', 'ACS19_5yr_B08136010s', 'ACS19_5yr_B08136011s', 'ACS19_5yr_B08136012s', 'PCT_ACS19_5yr_B08136002', 'PCT_ACS19_5yr_B08136003', 'PCT_ACS19_5yr_B08136004', 'PCT_ACS19_5yr_B08136005', 'PCT_ACS19_5yr_B08136006', 'PCT_ACS19_5yr_B08136007', 'PCT_ACS19_5yr_B08136008', 'PCT_ACS19_5yr_B08136009', 'PCT_ACS19_5yr_B08136010', 'PCT_ACS19_5yr_B08136011', 'PCT_ACS19_5yr_B08136012', 'ACS19_5yr_B08301001', 'ACS19_5yr_B08301002', 'ACS19_5yr_B08301003', 'ACS19_5yr_B08301004', 'ACS19_5yr_B08301005', 'ACS19_5yr_B08301006', 'ACS19_5yr_B08301007', 'ACS19_5yr_B08301008', 'ACS19_5yr_B08301009', 'ACS19_5yr_B08301010', 'ACS19_5yr_B08301011', 'ACS19_5yr_B08301012', 'ACS19_5yr_B08301013', 'ACS19_5yr_B08301014', 'ACS19_5yr_B08301015', 'ACS19_5yr_B08301016', 'ACS19_5yr_B08301017', 'ACS19_5yr_B08301018', 'ACS19_5yr_B08301019', 'ACS19_5yr_B08301020', 'ACS19_5yr_B08301021', 'ACS19_5yr_B08301001s', 'ACS19_5yr_B08301002s', 'ACS19_5yr_B08301003s', 'ACS19_5yr_B08301004s', 'ACS19_5yr_B08301005s', 'ACS19_5yr_B08301006s', 'ACS19_5yr_B08301007s', 'ACS19_5yr_B08301008s', 'ACS19_5yr_B08301009s', 'ACS19_5yr_B08301010s', 'ACS19_5yr_B08301011s', 'ACS19_5yr_B08301012s', 'ACS19_5yr_B08301013s', 'ACS19_5yr_B08301014s', 'ACS19_5yr_B08301015s', 'ACS19_5yr_B08301016s', 'ACS19_5yr_B08301017s', 'ACS19_5yr_B08301018s', 'ACS19_5yr_B08301019s', 'ACS19_5yr_B08301020s', 'ACS19_5yr_B08301021s', 'PCT_ACS19_5yr_B08301002', 'PCT_ACS19_5yr_B08301003', 'PCT_ACS19_5yr_B08301004', 'PCT_ACS19_5yr_B08301005', 'PCT_ACS19_5yr_B08301006', 'PCT_ACS19_5yr_B08301007', 'PCT_ACS19_5yr_B08301008', 'PCT_ACS19_5yr_B08301009', 'PCT_ACS19_5yr_B08301010', 'PCT_ACS19_5yr_B08301011', 'PCT_ACS19_5yr_B08301012', 'PCT_ACS19_5yr_B08301013', 'PCT_ACS19_5yr_B08301014', 'PCT_ACS19_5yr_B08301015', 'PCT_ACS19_5yr_B08301016', 'PCT_ACS19_5yr_B08301017', 'PCT_ACS19_5yr_B08301018', 'PCT_ACS19_5yr_B08301019', 'PCT_ACS19_5yr_B08301020', 'PCT_ACS19_5yr_B08301021', 'ACS19_5yr_B08303001', 'ACS19_5yr_B08303002', 'ACS19_5yr_B08303003', 'ACS19_5yr_B08303004', 'ACS19_5yr_B08303005', 'ACS19_5yr_B08303006', 'ACS19_5yr_B08303007', 'ACS19_5yr_B08303008', 'ACS19_5yr_B08303009', 'ACS19_5yr_B08303010', 'ACS19_5yr_B08303011', 'ACS19_5yr_B08303012', 'ACS19_5yr_B08303013', 'ACS19_5yr_B08303001s', 'ACS19_5yr_B08303002s', 'ACS19_5yr_B08303003s', 'ACS19_5yr_B08303004s', 'ACS19_5yr_B08303005s', 'ACS19_5yr_B08303006s', 'ACS19_5yr_B08303007s', 'ACS19_5yr_B08303008s', 'ACS19_5yr_B08303009s', 'ACS19_5yr_B08303010s', 'ACS19_5yr_B08303011s', 'ACS19_5yr_B08303012s', 'ACS19_5yr_B08303013s', 'PCT_ACS19_5yr_B08303002', 'PCT_ACS19_5yr_B08303003', 'PCT_ACS19_5yr_B08303004', 'PCT_ACS19_5yr_B08303005', 'PCT_ACS19_5yr_B08303006', 'PCT_ACS19_5yr_B08303007', 'PCT_ACS19_5yr_B08303008', 'PCT_ACS19_5yr_B08303009', 'PCT_ACS19_5yr_B08303010', 'PCT_ACS19_5yr_B08303011', 'PCT_ACS19_5yr_B08303012', 'PCT_ACS19_5yr_B08303013', 'ACS19_5yr_B08122001', 'ACS19_5yr_B08122002', 'ACS19_5yr_B08122003', 'ACS19_5yr_B08122004', 'ACS19_5yr_B08122005', 'ACS19_5yr_B08122006', 'ACS19_5yr_B08122007', 'ACS19_5yr_B08122008', 'ACS19_5yr_B08122009', 'ACS19_5yr_B08122010', 'ACS19_5yr_B08122011', 'ACS19_5yr_B08122012', 'ACS19_5yr_B08122013', 'ACS19_5yr_B08122014', 'ACS19_5yr_B08122015', 'ACS19_5yr_B08122016', 'ACS19_5yr_B08122017', 'ACS19_5yr_B08122018', 'ACS19_5yr_B08122019', 'ACS19_5yr_B08122020', 'ACS19_5yr_B08122021', 'ACS19_5yr_B08122022', 'ACS19_5yr_B08122023', 'ACS19_5yr_B08122024', 'ACS19_5yr_B08122025', 'ACS19_5yr_B08122026', 'ACS19_5yr_B08122027', 'ACS19_5yr_B08122028', 'ACS19_5yr_B08122001s', 'ACS19_5yr_B08122002s', 'ACS19_5yr_B08122003s', 'ACS19_5yr_B08122004s', 'ACS19_5yr_B08122005s', 'ACS19_5yr_B08122006s', 'ACS19_5yr_B08122007s', 'ACS19_5yr_B08122008s', 'ACS19_5yr_B08122009s', 'ACS19_5yr_B08122010s', 'ACS19_5yr_B08122011s', 'ACS19_5yr_B08122012s', 'ACS19_5yr_B08122013s', 'ACS19_5yr_B08122014s', 'ACS19_5yr_B08122015s', 'ACS19_5yr_B08122016s', 'ACS19_5yr_B08122017s', 'ACS19_5yr_B08122018s', 'ACS19_5yr_B08122019s', 'ACS19_5yr_B08122020s', 'ACS19_5yr_B08122021s', 'ACS19_5yr_B08122022s', 'ACS19_5yr_B08122023s', 'ACS19_5yr_B08122024s', 'ACS19_5yr_B08122025s', 'ACS19_5yr_B08122026s', 'ACS19_5yr_B08122027s', 'ACS19_5yr_B08122028s', 'PCT_ACS19_5yr_B08122002', 'PCT_ACS19_5yr_B08122003', 'PCT_ACS19_5yr_B08122004', 'PCT_ACS19_5yr_B08122005', 'PCT_ACS19_5yr_B08122006', 'PCT_ACS19_5yr_B08122007', 'PCT_ACS19_5yr_B08122008', 'PCT_ACS19_5yr_B08122009', 'PCT_ACS19_5yr_B08122010', 'PCT_ACS19_5yr_B08122011', 'PCT_ACS19_5yr_B08122012', 'PCT_ACS19_5yr_B08122013', 'PCT_ACS19_5yr_B08122014', 'PCT_ACS19_5yr_B08122015', 'PCT_ACS19_5yr_B08122016', 'PCT_ACS19_5yr_B08122017', 'PCT_ACS19_5yr_B08122018', 'PCT_ACS19_5yr_B08122019', 'PCT_ACS19_5yr_B08122020', 'PCT_ACS19_5yr_B08122021', 'PCT_ACS19_5yr_B08122022', 'PCT_ACS19_5yr_B08122023', 'PCT_ACS19_5yr_B08122024', 'PCT_ACS19_5yr_B08122025', 'PCT_ACS19_5yr_B08122026', 'PCT_ACS19_5yr_B08122027', 'PCT_ACS19_5yr_B08122028', 'ACS19_5yr_B23025001', 'ACS19_5yr_B23025002', 'ACS19_5yr_B23025003', 'ACS19_5yr_B23025004', 'ACS19_5yr_B23025005', 'ACS19_5yr_B23025006', 'ACS19_5yr_B23025007', 'ACS19_5yr_B23025001s', 'ACS19_5yr_B23025002s', 'ACS19_5yr_B23025003s', 'ACS19_5yr_B23025004s', 'ACS19_5yr_B23025005s', 'ACS19_5yr_B23025006s', 'ACS19_5yr_B23025007s', 'PCT_ACS19_5yr_B23025002', 'PCT_ACS19_5yr_B23025003', 'PCT_ACS19_5yr_B23025004', 'PCT_ACS19_5yr_B23025005', 'PCT_ACS19_5yr_B23025006', 'PCT_ACS19_5yr_B23025007', 'total_population', 'log_total_population', 'population_density', 'total_workers', 'land_area', 'aggregate_num_vehicles', 'aggregate_time_commute', 'aggregate_time_commute_drive_alone', 'aggregate_time_commute_carpool', 'aggregate_time_commute_public_transit', 'aggregate_time_commute_other_means', 'total_workers_drove_alone', 'total_workers_carpooled', 'total_workers_public_transit', 'total_workers_other_means', 'ttl_wrkr_cmute', 'wrkrs_drove_alone', 'wrkrs_drove_alone_below_100_poverty', 'pct_wrkrs_drove_alone_below_100_poverty', 'wrkrs_drove_alone_100_to_150_poverty', 'wrkrs_drove_alone_over_150_poverty', 'wrkrs_carpool', 'wrkrs_carpool_below_100_poverty', 'pct_wrkrs_carpool_below_100_poverty', 'wrkrs_carpool_100_to_150_poverty', 'wrkrs_carpool_over_150_poverty', 'wrkrs_public_transit', 'wrkrs_public_transit_below_100_poverty', 'pct_wrkrs_public_transit_below_100_poverty', 'wrkrs_public_transit_100_to_150_poverty', 'wrkrs_public_transit_over_150_poverty', 'wrkrs_walked', 'wrkrs_walked_below_100_poverty', 'pct_wrkrs_walked_below_100_poverty', 'wrkrs_walked_100_to_150_poverty', 'wrkrs_walked_over_150_poverty', 'wrkrs_commute_other_means', 'wrkrs_commute_other_means_below_100_poverty', 'pct_wrkrs_commute_other_means_below_100_poverty', 'wrkrs_commute_other_means_100_to_150_poverty', 'wrkrs_commute_other_means_over_150_poverty', 'ttl_wrkr_cmute_under_10_min', 'ttl_wrkr_cmute_10_to_14_min', 'ttl_wrkr_cmute_15_to_14_min', 'ttl_wrkr_cmute_20_to_24_min', 'ttl_wrkr_cmute_25_to_29_min', 'ttl_wrkr_cmute_30_to_34_min', 'ttl_wrkr_cmute_35_to_44_min', 'ttl_wrkr_cmute_45_to_59_min', 'ttl_wrkr_cmute_over_60', 'pct_wrkr_cmute_01_to_14_min', 'pct_wrkr_cmute_15_to_29_min', 'pct_wrkr_cmute_30_to_44_min', 'pct_wrkr_cmute_44_to_59_min', 'pct_wrkr_cmute_over_60_min', 'ttl_car_wrkr_cmute', 'ttl_car_wrkr_cmute_under_10_min', 'ttl_car_wrkr_cmute_10_to_14_min', 'ttl_car_wrkr_cmute_15_to_14_min', 'ttl_car_wrkr_cmute_20_to_24_min', 'ttl_car_wrkr_cmute_25_to_29_min', 'ttl_car_wrkr_cmute_30_to_34_min', 'ttl_car_wrkr_cmute_35_to_44_min', 'ttl_car_wrkr_cmute_45_to_59_min', 'ttl_car_wrkr_cmute_over_60_min', 'pct_car_wrkr_cmute', 'pct_car_wrkr_cmute_01_to_14_min', 'pct_car_wrkr_cmute_15_to_29_min', 'pct_car_wrkr_cmute_30_to_44_min', 'pct_car_wrkr_cmute_44_to_59_min', 'pct_car_wrkr_cmute_over_60_min', 'log_pct_car_wrkr_cmute', 'log_pct_car_wrkr_cmute_01_to_14_min', 'log_pct_car_wrkr_cmute_15_to_29_min', 'log_pct_car_wrkr_cmute_30_to_44_min', 'log_pct_car_wrkr_cmute_44_to_59_min', 'log_pct_car_wrkr_cmute_over_60_min', 'zero_check', 'ttl_all_public_tspt_wrkr_cmute', 'ttl_all_public_tspt_wrkr_cmute_under_10_min', 'ttl_all_public_tspt_wrkr_cmute_10_to_14_min', 'ttl_all_public_tspt_wrkr_cmute_15_to_14_min', 'ttl_all_public_tspt_wrkr_cmute_20_to_24_min', 'ttl_all_public_tspt_wrkr_cmute_25_to_29_min', 'ttl_all_public_tspt_wrkr_cmute_30_to_34_min', 'ttl_all_public_tspt_wrkr_cmute_35_to_44_min', 'ttl_all_public_tspt_wrkr_cmute_45_to_59_min', 'ttl_all_public_tspt_wrkr_cmute_over_60_min', 'pct_all_public_tspt_wrkr_cmute', 'pct_all_public_tspt_wrkr_cmute_01_to_14_min', 'pct_all_public_tspt_wrkr_cmute_15_to_29_min', 'pct_all_public_tspt_wrkr_cmute_30_to_44_min', 'pct_all_public_tspt_wrkr_cmute_44_to_59_min', 'pct_all_public_tspt_wrkr_cmute_over_60_min', 'ttl_bus_wrkr_cmute', 'ttl_bus_wrkr_cmute_under_10_min', 'ttl_bus_wrkr_cmute_10_to_14_min', 'ttl_bus_wrkr_cmute_15_to_14_min', 'ttl_bus_wrkr_cmute_20_to_24_min', 'ttl_bus_wrkr_cmute_25_to_29_min', 'ttl_bus_wrkr_cmute_30_to_34_min', 'ttl_bus_wrkr_cmute_35_to_44_min', 'ttl_bus_wrkr_cmute_45_to_59_min', 'ttl_bus_wrkr_cmute_over_60_min', 'pct_bus_wrkr_cmute', 'pct_bus_wrkr_cmute_01_to_14_min', 'pct_bus_wrkr_cmute_15_to_29_min', 'pct_bus_wrkr_cmute_30_to_44_min', 'pct_bus_wrkr_cmute_44_to_59_min', 'pct_bus_wrkr_cmute_over_60_min', 'ttl_local_rails_wrkr_cmute', 'ttl_local_rails_wrkr_cmute_under_10_min', 'ttl_local_rails_wrkr_cmute_10_to_14_min', 'ttl_local_rails_wrkr_cmute_15_to_14_min', 'ttl_local_rails_wrkr_cmute_20_to_24_min', 'ttl_local_rails_wrkr_cmute_25_to_29_min', 'ttl_local_rails_wrkr_cmute_30_to_34_min', 'ttl_local_rails_wrkr_cmute_35_to_44_min', 'ttl_local_rails_wrkr_cmute_45_to_59_min', 'ttl_local_rails_wrkr_cmute_over_60_min', 'pct_local_rails_wrkr_cmute', 'pct_local_rails_wrkr_cmute_01_to_14_min', 'pct_local_rails_wrkr_cmute_15_to_29_min', 'pct_local_rails_wrkr_cmute_30_to_44_min', 'pct_local_rails_wrkr_cmute_44_to_59_min', 'pct_local_rails_wrkr_cmute_over_60_min', 'ttl_long_distance_public_transport_wrkr_cmute', 'ttl_long_distance_public_transport_wrkr_cmute_under_10_min', 'ttl_long_distance_public_transport_wrkr_cmute_10_to_14_min', 'ttl_long_distance_public_transport_wrkr_cmute_15_to_14_min', 'ttl_long_distance_public_transport_wrkr_cmute_20_to_24_min', 'ttl_long_distance_public_transport_wrkr_cmute_25_to_29_min', 'ttl_long_distance_public_transport_wrkr_cmute_30_to_34_min', 'ttl_long_distance_public_transport_wrkr_cmute_35_to_44_min', 'ttl_long_distance_public_transport_wrkr_cmute_45_to_59_min', 'ttl_long_distance_public_transport_wrkr_cmute_over_60_min', 'pct_long_distance_public_transport_wrkr_cmute', 'pct_long_distance_public_transport_wrkr_cmute_01_to_14_min', 'pct_long_distance_public_transport_wrkr_cmute_15_to_29_min', 'pct_long_distance_public_transport_wrkr_cmute_30_to_44_min', 'pct_long_distance_public_transport_wrkr_cmute_44_to_59_min', 'pct_long_distance_public_transport_wrkr_cmute_over_60_min', 'ttl_walked_wrkr_cmute', 'ttl_walked_wrkr_cmute_under_10_min', 'ttl_walked_wrkr_cmute_10_to_14_min', 'ttl_walked_wrkr_cmute_15_to_14_min', 'ttl_walked_wrkr_cmute_20_to_24_min', 'ttl_walked_wrkr_cmute_25_to_29_min', 'ttl_walked_wrkr_cmute_30_to_34_min', 'ttl_walked_wrkr_cmute_35_to_44_min', 'ttl_walked_wrkr_cmute_45_to_59_min', 'ttl_walked_wrkr_cmute_over_60_min', 'pct_walked_wrkr_cmute', 'pct_walked_wrkr_cmute_01_to_14_min', 'pct_walked_wrkr_cmute_15_to_29_min', 'pct_walked_wrkr_cmute_30_to_44_min', 'pct_walked_wrkr_cmute_44_to_59_min', 'pct_walked_wrkr_cmute_over_60_min', 'ttl_misc_trspt_method_wrkr_cmute', 'ttl_misc_trspt_method_wrkr_cmute_under_10_min', 'ttl_misc_trspt_method_wrkr_cmute_10_to_14_min', 'ttl_misc_trspt_method_wrkr_cmute_15_to_14_min', 'ttl_misc_trspt_method_wrkr_cmute_20_to_24_min', 'ttl_misc_trspt_method_wrkr_cmute_25_to_29_min', 'ttl_misc_trspt_method_wrkr_cmute_30_to_34_min', 'ttl_misc_trspt_method_wrkr_cmute_35_to_44_min', 'ttl_misc_trspt_method_wrkr_cmute_45_to_59_min', 'ttl_misc_trspt_method_wrkr_cmute_over_60_min', 'pct_misc_trspt_method_wrkr_cmute', 'pct_misc_trspt_method_wrkr_cmute_01_to_14_min', 'pct_misc_trspt_method_wrkr_cmute_15_to_29_min', 'pct_misc_trspt_method_wrkr_cmute_30_to_44_min', 'pct_misc_trspt_method_wrkr_cmute_44_to_59_min', 'pct_misc_trspt_method_wrkr_cmute_over_60_min', 'population_in_labor_force', 'population_employed', 'population_unemployed', 'pct_unemployed', 'worker_density', 'vehicles_density', 'vehicles_per_worker', 'log_vehicles_per_worker', 'vehicles_per_worker_x_landarea', 'vehicles_per_worker_per_landarea', 'vehicles_x_worker_per_landarea', 'vehicle_density_x_vehicles_per_worker', 'average_commute_time_per_worker_drive_alone', 'average_commute_time_per_worker_carpool', 'average_commute_time_per_worker_public_transit', 'average_commute_time_per_worker_other_means', 'Unnamed: 0_y', 'cbp_total_employees', 'cbp_total_establishments', 'county_zip_file_name', 'roads_length', 'intersections']\n"
     ]
    }
   ],
   "source": [
    "df = pd.read_csv('../data/2019_data/prepped_data_2019.csv', na_values=\".\")\n",
    "print(df.columns.tolist())"
   ]
  },
  {
   "attachments": {},
   "cell_type": "markdown",
   "metadata": {},
   "source": [
    "# Data Cleanup involves combining data from two different years"
   ]
  },
  {
   "cell_type": "code",
   "execution_count": 27,
   "metadata": {},
   "outputs": [],
   "source": [
    "# ##### Data Cleanup\n",
    "\n",
    "# df = df.dropna(subset=['vehicles_per_worker',\n",
    "#                                  'total_workers',\n",
    "#                                  'land_area',\n",
    "#                                  'pct_unemployed',\n",
    "#                                  'average_commute_time_per_worker_drive_alone',\n",
    "#                                  'pct_car_wrkr_cmute_01_to_14_min',\n",
    "#                                  'pct_car_wrkr_cmute_15_to_29_min',\n",
    "#                                  'pct_car_wrkr_cmute_30_to_44_min',\n",
    "#                                  'pct_car_wrkr_cmute_44_to_59_min',\n",
    "#                                  'pct_car_wrkr_cmute_over_60_min',\n",
    "#                                  'total_population'])\n",
    "\n",
    "# df['total_workers'] = df['total_workers']\n",
    "# df['land_area'] = df['land_area']\n",
    "# df['vehicles_per_worker'] = df['vehicles_per_worker']\n",
    "# df['average_commute_time_per_worker_drive_alone'] = df['average_commute_time_per_worker_drive_alone']\n",
    "# df['pct_car_wrkr_cmute_01_to_14_min'] = df['pct_car_wrkr_cmute_01_to_14_min']\n",
    "# df['pct_car_wrkr_cmute_15_to_29_min'] = df['pct_car_wrkr_cmute_15_to_29_min']\n",
    "# df['pct_car_wrkr_cmute_44_to_59_min'] = df['pct_car_wrkr_cmute_44_to_59_min']\n",
    "# df['pct_car_wrkr_cmute_30_to_44_min'] = df['pct_car_wrkr_cmute_30_to_44_min']\n",
    "# df['pct_car_wrkr_cmute_over_60_min'] = df['pct_car_wrkr_cmute_over_60_min']\n",
    "# df['pct_unemployed'] = df['pct_unemployed']\n",
    "# df['total_population'] = df['total_population']\n",
    "# df['year'] = 2019"
   ]
  },
  {
   "cell_type": "markdown",
   "metadata": {},
   "source": [
    "# OLS Regression - Multivariate"
   ]
  },
  {
   "cell_type": "code",
   "execution_count": 28,
   "metadata": {},
   "outputs": [
    {
     "name": "stderr",
     "output_type": "stream",
     "text": [
      "C:\\Users\\cjong\\AppData\\Local\\Temp\\ipykernel_2340\\3390946073.py:2: UserWarning: Pandas doesn't allow columns to be created via a new attribute name - see https://pandas.pydata.org/pandas-docs/stable/indexing.html#attribute-access\n",
      "  df.pct_walking_and_public_transit = df.pct_all_public_tspt_wrkr_cmute + df.pct_walked_wrkr_cmute\n"
     ]
    },
    {
     "data": {
      "text/plain": [
       "0       0.015675\n",
       "1       0.006936\n",
       "2       0.030587\n",
       "3       0.001391\n",
       "4       0.005852\n",
       "          ...   \n",
       "3215    0.019362\n",
       "3216    0.044232\n",
       "3217    0.025020\n",
       "3218    0.020998\n",
       "3219    0.038529\n",
       "Length: 3220, dtype: float64"
      ]
     },
     "execution_count": 28,
     "metadata": {},
     "output_type": "execute_result"
    }
   ],
   "source": [
    "df = df\n",
    "df.pct_walking_and_public_transit = df.pct_all_public_tspt_wrkr_cmute + df.pct_walked_wrkr_cmute\n",
    "df.pct_walking_and_public_transit\n"
   ]
  },
  {
   "cell_type": "code",
   "execution_count": 29,
   "metadata": {},
   "outputs": [
    {
     "data": {
      "text/plain": [
       "0       0.015675\n",
       "1       0.006936\n",
       "2       0.030587\n",
       "3       0.001391\n",
       "4       0.005852\n",
       "          ...   \n",
       "3215    0.019362\n",
       "3216    0.044232\n",
       "3217    0.025020\n",
       "3218    0.020998\n",
       "3219    0.038529\n",
       "Name: pct_walking_and_public_transit, Length: 3220, dtype: float64"
      ]
     },
     "execution_count": 29,
     "metadata": {},
     "output_type": "execute_result"
    }
   ],
   "source": [
    "df = df\n",
    "df['pct_walking_and_public_transit'] = df['pct_all_public_tspt_wrkr_cmute'] + df['pct_walked_wrkr_cmute']\n",
    "df['pct_walking_and_public_transit']\n"
   ]
  },
  {
   "cell_type": "code",
   "execution_count": 33,
   "metadata": {},
   "outputs": [
    {
     "name": "stdout",
     "output_type": "stream",
     "text": [
      "                                  OLS Regression Results                                  \n",
      "==========================================================================================\n",
      "Dep. Variable:     pct_walking_and_public_transit   R-squared:                       0.770\n",
      "Model:                                        OLS   Adj. R-squared:                  0.769\n",
      "Method:                             Least Squares   F-statistic:                     513.2\n",
      "Date:                            Fri, 16 Dec 2022   Prob (F-statistic):               0.00\n",
      "Time:                                    15:06:13   Log-Likelihood:                 2886.2\n",
      "No. Observations:                            1389   AIC:                            -5752.\n",
      "Df Residuals:                                1379   BIC:                            -5700.\n",
      "Df Model:                                       9                                         \n",
      "Covariance Type:                        nonrobust                                         \n",
      "===============================================================================================================\n",
      "                                                  coef    std err          t      P>|t|      [0.025      0.975]\n",
      "---------------------------------------------------------------------------------------------------------------\n",
      "Intercept                                       0.6086      0.011     54.372      0.000       0.587       0.631\n",
      "vehicles_per_worker                            -0.6510      0.012    -53.164      0.000      -0.675      -0.627\n",
      "roads_length                                -2.416e-09   5.03e-10     -4.807      0.000    -3.4e-09   -1.43e-09\n",
      "intersections                               -3.792e-07   1.86e-07     -2.040      0.042   -7.44e-07   -1.45e-08\n",
      "total_population                             2.136e-08   9.38e-09      2.276      0.023    2.95e-09    3.98e-08\n",
      "average_commute_time_per_worker_drive_alone    -0.0006      0.000     -3.494      0.000      -0.001      -0.000\n",
      "pct_unemployed                                  0.0012      0.000      3.366      0.001       0.000       0.002\n",
      "land_area                                    4.181e-13   7.15e-14      5.848      0.000    2.78e-13    5.58e-13\n",
      "cbp_total_employees                          9.862e-08   1.77e-08      5.559      0.000    6.38e-08    1.33e-07\n",
      "cbp_total_establishments                    -1.061e-06   4.21e-07     -2.520      0.012   -1.89e-06   -2.35e-07\n",
      "==============================================================================\n",
      "Omnibus:                      694.276   Durbin-Watson:                   1.796\n",
      "Prob(Omnibus):                  0.000   Jarque-Bera (JB):            16824.324\n",
      "Skew:                           1.790   Prob(JB):                         0.00\n",
      "Kurtosis:                      19.670   Cond. No.                     2.65e+11\n",
      "==============================================================================\n",
      "\n",
      "Notes:\n",
      "[1] Standard Errors assume that the covariance matrix of the errors is correctly specified.\n",
      "[2] The condition number is large, 2.65e+11. This might indicate that there are\n",
      "strong multicollinearity or other numerical problems.\n"
     ]
    }
   ],
   "source": [
    "lm_ols = smf.ols(formula = 'pct_walking_and_public_transit ~ \\\n",
    "                                vehicles_per_worker + \\\n",
    "                                roads_length + \\\n",
    "                                intersections + \\\n",
    "                                total_population + \\\n",
    "                                average_commute_time_per_worker_drive_alone + \\\n",
    "                                pct_unemployed + \\\n",
    "                                land_area + \\\n",
    "                                cbp_total_employees + \\\n",
    "                                cbp_total_establishments',\n",
    "data = df).fit()\n",
    "print (lm_ols.summary())"
   ]
  },
  {
   "cell_type": "code",
   "execution_count": 37,
   "metadata": {},
   "outputs": [
    {
     "name": "stdout",
     "output_type": "stream",
     "text": [
      "                                  OLS Regression Results                                  \n",
      "==========================================================================================\n",
      "Dep. Variable:     pct_walking_and_public_transit   R-squared:                       0.698\n",
      "Model:                                        OLS   Adj. R-squared:                  0.697\n",
      "Method:                             Least Squares   F-statistic:                     904.9\n",
      "Date:                            Fri, 16 Dec 2022   Prob (F-statistic):               0.00\n",
      "Time:                                    17:09:36   Log-Likelihood:                 6493.6\n",
      "No. Observations:                            3139   AIC:                        -1.297e+04\n",
      "Df Residuals:                                3130   BIC:                        -1.291e+04\n",
      "Df Model:                                       8                                         \n",
      "Covariance Type:                        nonrobust                                         \n",
      "============================================================================================\n",
      "                               coef    std err          t      P>|t|      [0.025      0.975]\n",
      "--------------------------------------------------------------------------------------------\n",
      "Intercept                    0.5551      0.007     74.464      0.000       0.540       0.570\n",
      "vehicles_per_worker         -0.6009      0.009    -69.200      0.000      -0.618      -0.584\n",
      "roads_length             -1.615e-09   3.88e-10     -4.168      0.000   -2.38e-09   -8.55e-10\n",
      "intersections            -3.544e-07   1.57e-07     -2.257      0.024   -6.62e-07   -4.66e-08\n",
      "total_population          1.394e-08   8.86e-09      1.573      0.116   -3.44e-09    3.13e-08\n",
      "pct_unemployed               0.0001      0.000      0.657      0.511      -0.000       0.001\n",
      "land_area                 6.441e-13   6.58e-14      9.783      0.000    5.15e-13    7.73e-13\n",
      "cbp_total_employees       1.191e-07   1.71e-08      6.946      0.000    8.55e-08    1.53e-07\n",
      "cbp_total_establishments -1.254e-06   4.06e-07     -3.087      0.002   -2.05e-06   -4.57e-07\n",
      "==============================================================================\n",
      "Omnibus:                     2337.812   Durbin-Watson:                   1.779\n",
      "Prob(Omnibus):                  0.000   Jarque-Bera (JB):           123288.450\n",
      "Skew:                           3.009   Prob(JB):                         0.00\n",
      "Kurtosis:                      33.107   Cond. No.                     2.05e+11\n",
      "==============================================================================\n",
      "\n",
      "Notes:\n",
      "[1] Standard Errors assume that the covariance matrix of the errors is correctly specified.\n",
      "[2] The condition number is large, 2.05e+11. This might indicate that there are\n",
      "strong multicollinearity or other numerical problems.\n"
     ]
    }
   ],
   "source": [
    "lm_ols = smf.ols(formula = 'pct_walking_and_public_transit ~ \\\n",
    "                                vehicles_per_worker + \\\n",
    "                                roads_length + \\\n",
    "                                intersections + \\\n",
    "                                total_population + \\\n",
    "                                pct_unemployed + \\\n",
    "                                land_area + \\\n",
    "                                cbp_total_employees + \\\n",
    "                                cbp_total_establishments \\\n",
    "                                ',\n",
    "                                # average_commute_time_per_worker_drive_alone + \\\n",
    "data = df).fit()\n",
    "print (lm_ols.summary())"
   ]
  },
  {
   "cell_type": "code",
   "execution_count": 38,
   "metadata": {},
   "outputs": [
    {
     "name": "stdout",
     "output_type": "stream",
     "text": [
      "                                  OLS Regression Results                                  \n",
      "==========================================================================================\n",
      "Dep. Variable:     pct_walking_and_public_transit   R-squared:                       0.696\n",
      "Model:                                        OLS   Adj. R-squared:                  0.696\n",
      "Method:                             Least Squares   F-statistic:                     1198.\n",
      "Date:                            Fri, 16 Dec 2022   Prob (F-statistic):               0.00\n",
      "Time:                                    17:10:10   Log-Likelihood:                 6463.1\n",
      "No. Observations:                            3141   AIC:                        -1.291e+04\n",
      "Df Residuals:                                3134   BIC:                        -1.287e+04\n",
      "Df Model:                                       6                                         \n",
      "Covariance Type:                        nonrobust                                         \n",
      "=======================================================================================\n",
      "                          coef    std err          t      P>|t|      [0.025      0.975]\n",
      "---------------------------------------------------------------------------------------\n",
      "Intercept               0.5668      0.007     77.179      0.000       0.552       0.581\n",
      "vehicles_per_worker    -0.6141      0.009    -71.584      0.000      -0.631      -0.597\n",
      "roads_length        -1.981e-09   3.89e-10     -5.092      0.000   -2.74e-09   -1.22e-09\n",
      "intersections       -2.202e-07   1.57e-07     -1.401      0.161   -5.28e-07    8.79e-08\n",
      "total_population     2.996e-08   3.16e-09      9.467      0.000    2.38e-08    3.62e-08\n",
      "pct_unemployed          0.0001      0.000      0.480      0.631      -0.000       0.001\n",
      "land_area            6.131e-13   6.64e-14      9.229      0.000    4.83e-13    7.43e-13\n",
      "==============================================================================\n",
      "Omnibus:                     2274.349   Durbin-Watson:                   1.785\n",
      "Prob(Omnibus):                  0.000   Jarque-Bera (JB):           114450.437\n",
      "Skew:                           2.893   Prob(JB):                         0.00\n",
      "Kurtosis:                      32.000   Cond. No.                     2.00e+11\n",
      "==============================================================================\n",
      "\n",
      "Notes:\n",
      "[1] Standard Errors assume that the covariance matrix of the errors is correctly specified.\n",
      "[2] The condition number is large,  2e+11. This might indicate that there are\n",
      "strong multicollinearity or other numerical problems.\n"
     ]
    }
   ],
   "source": [
    "lm_ols = smf.ols(formula = 'pct_walking_and_public_transit ~ \\\n",
    "                                vehicles_per_worker + \\\n",
    "                                roads_length + \\\n",
    "                                intersections + \\\n",
    "                                total_population + \\\n",
    "                                pct_unemployed + \\\n",
    "                                land_area ',\n",
    "                                # average_commute_time_per_worker_drive_alone + \\\n",
    "data = df).fit()\n",
    "print (lm_ols.summary())"
   ]
  },
  {
   "attachments": {},
   "cell_type": "markdown",
   "metadata": {},
   "source": [
    "# LASSO REGRESSION"
   ]
  },
  {
   "cell_type": "code",
   "execution_count": 40,
   "metadata": {},
   "outputs": [],
   "source": [
    "from sklearn.model_selection import train_test_split\n",
    "from sklearn.linear_model import LinearRegression\n",
    "from sklearn.linear_model import Ridge\n",
    "from sklearn.linear_model import Lasso\n",
    "from sklearn.model_selection import cross_val_score\n",
    "# from sklearn.linear_model import ElasticNet\n",
    "# model = ElasticNet(alpha=1.0, l1_ratio=0.5)\n",
    "from sklearn import preprocessing\n",
    "scaler = preprocessing.StandardScaler()\n",
    "\n",
    "# X = df['pct_walking_and_public_transit']\n",
    "# y = df[['vehicles_per_worker','roads_length','intersections','total_population','average_commute_time_per_worker_drive_alone','pct_unemployed','land_area']]\n",
    "\n",
    "df = df.dropna(subset=['pct_walking_and_public_transit','vehicles_per_worker','roads_length','intersections','total_population','average_commute_time_per_worker_drive_alone','pct_unemployed','land_area','cbp_total_employees', 'cbp_total_establishments'])\n",
    "\n",
    "X = df[['vehicles_per_worker','roads_length','intersections','total_population','average_commute_time_per_worker_drive_alone','pct_unemployed','land_area','cbp_total_employees', 'cbp_total_establishments']]\n",
    "y = df['pct_walking_and_public_transit']"
   ]
  },
  {
   "cell_type": "code",
   "execution_count": 41,
   "metadata": {},
   "outputs": [],
   "source": [
    "\n",
    "# Here, I standardize by X data using StandardScalar\n",
    "X_train, X_test, y_train, y_test = train_test_split(X, y)\n",
    "# scaler.fit(X_test)\n",
    "# X_test_scaled = scaler.transform(X_test)\n",
    "# scaler.fit(X_train)\n",
    "# X_train_scaled = scaler.transform(X_train)\n",
    "\n",
    "scaler = preprocessing.StandardScaler().fit(X_train)\n",
    "X_train_scaled = scaler.transform(X_train)\n",
    "X_test_scaled = scaler.transform(X_test)"
   ]
  },
  {
   "cell_type": "code",
   "execution_count": 42,
   "metadata": {},
   "outputs": [
    {
     "name": "stdout",
     "output_type": "stream",
     "text": [
      "LASSO REGRESSION (UNSCALED DATA)\n",
      "Training set score: 0.387\n",
      "Test set score: -0.730\n",
      "Mean Cross-Validation, Kfold: 0.053\n"
     ]
    }
   ],
   "source": [
    "lasso = Lasso().fit(X_train, y_train) # Fit the training data to a lasso regression line with alpha = 0.01 and 100,000 iterations\n",
    "\n",
    "print(\"LASSO REGRESSION (UNSCALED DATA)\") # LASSO is L1 penalty, which adds “absolute value of magnitude” of coefficient as penalty term to the loss function. Good for feature selection when you have a lot of features.\n",
    "print(\"Training set score: {:.3f}\".format(lasso.score(X_train, y_train)))\n",
    "print(\"Test set score: {:.3f}\".format(lasso.score(X_test, y_test)))\n",
    "\n",
    "# Kfold cross validation\n",
    "print(\"Mean Cross-Validation, Kfold: {:.3f}\".format(np.mean(cross_val_score(lasso, X_train, y_train))))\n",
    "\n",
    "lasso_unscaled = np.mean(cross_val_score(lasso, X_train, y_train)) # Will use later to compare results"
   ]
  },
  {
   "cell_type": "code",
   "execution_count": null,
   "metadata": {},
   "outputs": [],
   "source": []
  }
 ],
 "metadata": {
  "kernelspec": {
   "display_name": "base",
   "language": "python",
   "name": "python3"
  },
  "language_info": {
   "codemirror_mode": {
    "name": "ipython",
    "version": 3
   },
   "file_extension": ".py",
   "mimetype": "text/x-python",
   "name": "python",
   "nbconvert_exporter": "python",
   "pygments_lexer": "ipython3",
   "version": "3.9.13"
  },
  "orig_nbformat": 4,
  "vscode": {
   "interpreter": {
    "hash": "b8b887db99f8edfa7f3e3a008cc1b31fa63afeb09acb3c9f070418078094f7b2"
   }
  }
 },
 "nbformat": 4,
 "nbformat_minor": 2
}
