{
 "cells": [
  {
   "cell_type": "code",
   "execution_count": 93,
   "metadata": {},
   "outputs": [],
   "source": [
    "# Init\n",
    "# choropleth\n",
    "from __future__ import division\n",
    "import pandas as pd\n",
    "import numpy as np\n",
    "import statsmodels.api as sm\n",
    "import statsmodels.formula.api as smf\n",
    "import os\n",
    "import matplotlib.pyplot as plt\n",
    "import seaborn as sns"
   ]
  },
  {
   "attachments": {},
   "cell_type": "markdown",
   "metadata": {},
   "source": [
    "# County level data retrieval"
   ]
  },
  {
   "cell_type": "code",
   "execution_count": 94,
   "metadata": {},
   "outputs": [
    {
     "name": "stdout",
     "output_type": "stream",
     "text": [
      "['Unnamed: 0', 'Unnamed: 0_x', 'fips', 'total_population', 'log_total_population', 'population_density', 'total_workers', 'land_area', 'aggregate_num_vehicles', 'aggregate_time_commute', 'aggregate_time_commute_drive_alone', 'aggregate_time_commute_carpool', 'aggregate_time_commute_public_transit', 'aggregate_time_commute_other_means', 'total_workers_drove_alone', 'total_workers_carpooled', 'total_workers_public_transit', 'total_workers_other_means', 'ttl_wrkr_cmute', 'wrkrs_drove_alone', 'wrkrs_drove_alone_below_100_poverty', 'pct_wrkrs_drove_alone_below_100_poverty', 'wrkrs_drove_alone_100_to_150_poverty', 'wrkrs_drove_alone_over_150_poverty', 'wrkrs_carpool', 'wrkrs_carpool_below_100_poverty', 'pct_wrkrs_carpool_below_100_poverty', 'wrkrs_carpool_100_to_150_poverty', 'wrkrs_carpool_over_150_poverty', 'wrkrs_public_transit', 'wrkrs_public_transit_below_100_poverty', 'pct_wrkrs_public_transit_below_100_poverty', 'wrkrs_public_transit_100_to_150_poverty', 'wrkrs_public_transit_over_150_poverty', 'wrkrs_walked', 'wrkrs_walked_below_100_poverty', 'pct_wrkrs_walked_below_100_poverty', 'wrkrs_walked_100_to_150_poverty', 'wrkrs_walked_over_150_poverty', 'wrkrs_commute_other_means', 'wrkrs_commute_other_means_below_100_poverty', 'pct_wrkrs_commute_other_means_below_100_poverty', 'wrkrs_commute_other_means_100_to_150_poverty', 'wrkrs_commute_other_means_over_150_poverty', 'ttl_wrkr_cmute_under_10_min', 'ttl_wrkr_cmute_10_to_14_min', 'ttl_wrkr_cmute_15_to_14_min', 'ttl_wrkr_cmute_20_to_24_min', 'ttl_wrkr_cmute_25_to_29_min', 'ttl_wrkr_cmute_30_to_34_min', 'ttl_wrkr_cmute_35_to_44_min', 'ttl_wrkr_cmute_45_to_59_min', 'ttl_wrkr_cmute_over_60', 'pct_wrkr_cmute_01_to_14_min', 'pct_wrkr_cmute_15_to_29_min', 'pct_wrkr_cmute_30_to_44_min', 'pct_wrkr_cmute_44_to_59_min', 'pct_wrkr_cmute_over_60_min', 'ttl_car_wrkr_cmute', 'ttl_car_wrkr_cmute_under_10_min', 'ttl_car_wrkr_cmute_10_to_14_min', 'ttl_car_wrkr_cmute_15_to_14_min', 'ttl_car_wrkr_cmute_20_to_24_min', 'ttl_car_wrkr_cmute_25_to_29_min', 'ttl_car_wrkr_cmute_30_to_34_min', 'ttl_car_wrkr_cmute_35_to_44_min', 'ttl_car_wrkr_cmute_45_to_59_min', 'ttl_car_wrkr_cmute_over_60_min', 'pct_car_wrkr_cmute', 'pct_car_wrkr_cmute_01_to_14_min', 'pct_car_wrkr_cmute_15_to_29_min', 'pct_car_wrkr_cmute_30_to_44_min', 'pct_car_wrkr_cmute_44_to_59_min', 'pct_car_wrkr_cmute_over_60_min', 'log_pct_car_wrkr_cmute', 'log_pct_car_wrkr_cmute_01_to_14_min', 'log_pct_car_wrkr_cmute_15_to_29_min', 'log_pct_car_wrkr_cmute_30_to_44_min', 'log_pct_car_wrkr_cmute_44_to_59_min', 'log_pct_car_wrkr_cmute_over_60_min', 'zero_check', 'ttl_all_public_tspt_wrkr_cmute', 'ttl_all_public_tspt_wrkr_cmute_under_10_min', 'ttl_all_public_tspt_wrkr_cmute_10_to_14_min', 'ttl_all_public_tspt_wrkr_cmute_15_to_14_min', 'ttl_all_public_tspt_wrkr_cmute_20_to_24_min', 'ttl_all_public_tspt_wrkr_cmute_25_to_29_min', 'ttl_all_public_tspt_wrkr_cmute_30_to_34_min', 'ttl_all_public_tspt_wrkr_cmute_35_to_44_min', 'ttl_all_public_tspt_wrkr_cmute_45_to_59_min', 'ttl_all_public_tspt_wrkr_cmute_over_60_min', 'pct_all_public_tspt_wrkr_cmute', 'pct_all_public_tspt_wrkr_cmute_01_to_14_min', 'pct_all_public_tspt_wrkr_cmute_15_to_29_min', 'pct_all_public_tspt_wrkr_cmute_30_to_44_min', 'pct_all_public_tspt_wrkr_cmute_44_to_59_min', 'pct_all_public_tspt_wrkr_cmute_over_60_min', 'ttl_bus_wrkr_cmute', 'ttl_bus_wrkr_cmute_under_10_min', 'ttl_bus_wrkr_cmute_10_to_14_min', 'ttl_bus_wrkr_cmute_15_to_14_min', 'ttl_bus_wrkr_cmute_20_to_24_min', 'ttl_bus_wrkr_cmute_25_to_29_min', 'ttl_bus_wrkr_cmute_30_to_34_min', 'ttl_bus_wrkr_cmute_35_to_44_min', 'ttl_bus_wrkr_cmute_45_to_59_min', 'ttl_bus_wrkr_cmute_over_60_min', 'pct_bus_wrkr_cmute', 'pct_bus_wrkr_cmute_01_to_14_min', 'pct_bus_wrkr_cmute_15_to_29_min', 'pct_bus_wrkr_cmute_30_to_44_min', 'pct_bus_wrkr_cmute_44_to_59_min', 'pct_bus_wrkr_cmute_over_60_min', 'ttl_local_rails_wrkr_cmute', 'ttl_local_rails_wrkr_cmute_under_10_min', 'ttl_local_rails_wrkr_cmute_10_to_14_min', 'ttl_local_rails_wrkr_cmute_15_to_14_min', 'ttl_local_rails_wrkr_cmute_20_to_24_min', 'ttl_local_rails_wrkr_cmute_25_to_29_min', 'ttl_local_rails_wrkr_cmute_30_to_34_min', 'ttl_local_rails_wrkr_cmute_35_to_44_min', 'ttl_local_rails_wrkr_cmute_45_to_59_min', 'ttl_local_rails_wrkr_cmute_over_60_min', 'pct_local_rails_wrkr_cmute', 'pct_local_rails_wrkr_cmute_01_to_14_min', 'pct_local_rails_wrkr_cmute_15_to_29_min', 'pct_local_rails_wrkr_cmute_30_to_44_min', 'pct_local_rails_wrkr_cmute_44_to_59_min', 'pct_local_rails_wrkr_cmute_over_60_min', 'ttl_long_distance_public_transport_wrkr_cmute', 'ttl_long_distance_public_transport_wrkr_cmute_under_10_min', 'ttl_long_distance_public_transport_wrkr_cmute_10_to_14_min', 'ttl_long_distance_public_transport_wrkr_cmute_15_to_14_min', 'ttl_long_distance_public_transport_wrkr_cmute_20_to_24_min', 'ttl_long_distance_public_transport_wrkr_cmute_25_to_29_min', 'ttl_long_distance_public_transport_wrkr_cmute_30_to_34_min', 'ttl_long_distance_public_transport_wrkr_cmute_35_to_44_min', 'ttl_long_distance_public_transport_wrkr_cmute_45_to_59_min', 'ttl_long_distance_public_transport_wrkr_cmute_over_60_min', 'pct_long_distance_public_transport_wrkr_cmute', 'pct_long_distance_public_transport_wrkr_cmute_01_to_14_min', 'pct_long_distance_public_transport_wrkr_cmute_15_to_29_min', 'pct_long_distance_public_transport_wrkr_cmute_30_to_44_min', 'pct_long_distance_public_transport_wrkr_cmute_44_to_59_min', 'pct_long_distance_public_transport_wrkr_cmute_over_60_min', 'ttl_walked_wrkr_cmute', 'ttl_walked_wrkr_cmute_under_10_min', 'ttl_walked_wrkr_cmute_10_to_14_min', 'ttl_walked_wrkr_cmute_15_to_14_min', 'ttl_walked_wrkr_cmute_20_to_24_min', 'ttl_walked_wrkr_cmute_25_to_29_min', 'ttl_walked_wrkr_cmute_30_to_34_min', 'ttl_walked_wrkr_cmute_35_to_44_min', 'ttl_walked_wrkr_cmute_45_to_59_min', 'ttl_walked_wrkr_cmute_over_60_min', 'pct_walked_wrkr_cmute', 'pct_walked_wrkr_cmute_01_to_14_min', 'pct_walked_wrkr_cmute_15_to_29_min', 'pct_walked_wrkr_cmute_30_to_44_min', 'pct_walked_wrkr_cmute_44_to_59_min', 'pct_walked_wrkr_cmute_over_60_min', 'ttl_misc_trspt_method_wrkr_cmute', 'ttl_misc_trspt_method_wrkr_cmute_under_10_min', 'ttl_misc_trspt_method_wrkr_cmute_10_to_14_min', 'ttl_misc_trspt_method_wrkr_cmute_15_to_14_min', 'ttl_misc_trspt_method_wrkr_cmute_20_to_24_min', 'ttl_misc_trspt_method_wrkr_cmute_25_to_29_min', 'ttl_misc_trspt_method_wrkr_cmute_30_to_34_min', 'ttl_misc_trspt_method_wrkr_cmute_35_to_44_min', 'ttl_misc_trspt_method_wrkr_cmute_45_to_59_min', 'ttl_misc_trspt_method_wrkr_cmute_over_60_min', 'pct_misc_trspt_method_wrkr_cmute', 'pct_misc_trspt_method_wrkr_cmute_01_to_14_min', 'pct_misc_trspt_method_wrkr_cmute_15_to_29_min', 'pct_misc_trspt_method_wrkr_cmute_30_to_44_min', 'pct_misc_trspt_method_wrkr_cmute_44_to_59_min', 'pct_misc_trspt_method_wrkr_cmute_over_60_min', 'ttl_households', 'population_in_labor_force', 'population_employed', 'population_unemployed', 'pct_unemployed', 'worker_density', 'vehicles_density', 'vehicles_per_worker', 'log_vehicles_per_worker', 'vehicles_per_worker_x_landarea', 'vehicles_per_worker_per_landarea', 'vehicles_x_worker_per_landarea', 'vehicle_density_x_vehicles_per_worker', 'average_commute_time_per_worker_drive_alone', 'average_commute_time_per_worker_carpool', 'average_commute_time_per_worker_public_transit', 'average_commute_time_per_worker_other_means', 'households_with_0_vehicle', 'households_with_1_vehicle', 'households_with_2_vehicle', 'households_with_3_vehicle', 'households_with_4_vehicle', 'households_with_5_or_more_vehicle', 'Unnamed: 0_y', 'cbp_total_employees', 'cbp_total_establishments', 'county_zip_file_name', 'roads_length', 'intersections']\n"
     ]
    }
   ],
   "source": [
    "df = pd.read_csv('../data/2019_data/prepped_data_2019.csv', na_values=\".\")\n",
    "print(df.columns.tolist())"
   ]
  },
  {
   "attachments": {},
   "cell_type": "markdown",
   "metadata": {},
   "source": [
    "# Data Cleanup involves combining data from two different years"
   ]
  },
  {
   "cell_type": "code",
   "execution_count": 95,
   "metadata": {},
   "outputs": [],
   "source": [
    "# ##### Data Cleanup\n",
    "\n",
    "# df = df.dropna(subset=['vehicles_per_worker',\n",
    "#                                  'total_workers',\n",
    "#                                  'land_area',\n",
    "#                                  'pct_unemployed',\n",
    "#                                  'average_commute_time_per_worker_drive_alone',\n",
    "#                                  'pct_car_wrkr_cmute_01_to_14_min',\n",
    "#                                  'pct_car_wrkr_cmute_15_to_29_min',\n",
    "#                                  'pct_car_wrkr_cmute_30_to_44_min',\n",
    "#                                  'pct_car_wrkr_cmute_44_to_59_min',\n",
    "#                                  'pct_car_wrkr_cmute_over_60_min',\n",
    "#                                  'total_population'])\n",
    "\n",
    "# df['total_workers'] = df['total_workers']\n",
    "# df['land_area'] = df['land_area']\n",
    "# df['vehicles_per_worker'] = df['vehicles_per_worker']\n",
    "# df['average_commute_time_per_worker_drive_alone'] = df['average_commute_time_per_worker_drive_alone']\n",
    "# df['pct_car_wrkr_cmute_01_to_14_min'] = df['pct_car_wrkr_cmute_01_to_14_min']\n",
    "# df['pct_car_wrkr_cmute_15_to_29_min'] = df['pct_car_wrkr_cmute_15_to_29_min']\n",
    "# df['pct_car_wrkr_cmute_44_to_59_min'] = df['pct_car_wrkr_cmute_44_to_59_min']\n",
    "# df['pct_car_wrkr_cmute_30_to_44_min'] = df['pct_car_wrkr_cmute_30_to_44_min']\n",
    "# df['pct_car_wrkr_cmute_over_60_min'] = df['pct_car_wrkr_cmute_over_60_min']\n",
    "# df['pct_unemployed'] = df['pct_unemployed']\n",
    "# df['total_population'] = df['total_population']\n",
    "# df['year'] = 2019"
   ]
  },
  {
   "cell_type": "markdown",
   "metadata": {},
   "source": [
    "# OLS Regression - Multivariate"
   ]
  },
  {
   "cell_type": "code",
   "execution_count": 96,
   "metadata": {},
   "outputs": [
    {
     "name": "stderr",
     "output_type": "stream",
     "text": [
      "C:\\Users\\cjong\\AppData\\Local\\Temp\\ipykernel_2340\\3390946073.py:2: UserWarning: Pandas doesn't allow columns to be created via a new attribute name - see https://pandas.pydata.org/pandas-docs/stable/indexing.html#attribute-access\n",
      "  df.pct_walking_and_public_transit = df.pct_all_public_tspt_wrkr_cmute + df.pct_walked_wrkr_cmute\n"
     ]
    },
    {
     "data": {
      "text/plain": [
       "0       0.015675\n",
       "1       0.006936\n",
       "2       0.030587\n",
       "3       0.001391\n",
       "4       0.005852\n",
       "          ...   \n",
       "3215    0.019362\n",
       "3216    0.044232\n",
       "3217    0.025020\n",
       "3218    0.020998\n",
       "3219    0.038529\n",
       "Length: 3220, dtype: float64"
      ]
     },
     "execution_count": 96,
     "metadata": {},
     "output_type": "execute_result"
    }
   ],
   "source": [
    "df = df\n",
    "df.pct_walking_and_public_transit = df.pct_all_public_tspt_wrkr_cmute + df.pct_walked_wrkr_cmute\n",
    "df.pct_walking_and_public_transit\n"
   ]
  },
  {
   "cell_type": "code",
   "execution_count": 97,
   "metadata": {},
   "outputs": [
    {
     "data": {
      "text/plain": [
       "0       0.015675\n",
       "1       0.006936\n",
       "2       0.030587\n",
       "3       0.001391\n",
       "4       0.005852\n",
       "          ...   \n",
       "3215    0.019362\n",
       "3216    0.044232\n",
       "3217    0.025020\n",
       "3218    0.020998\n",
       "3219    0.038529\n",
       "Name: pct_walking_and_public_transit, Length: 3220, dtype: float64"
      ]
     },
     "execution_count": 97,
     "metadata": {},
     "output_type": "execute_result"
    }
   ],
   "source": [
    "df = df\n",
    "df['pct_walking_and_public_transit'] = df['pct_all_public_tspt_wrkr_cmute'] + df['pct_walked_wrkr_cmute']\n",
    "df['pct_walking_and_public_transit']\n"
   ]
  },
  {
   "attachments": {},
   "cell_type": "markdown",
   "metadata": {},
   "source": [
    "### Thought process\n",
    "If there are significances found between the percentage of people that commute to work by walking & public transit and the combination of cars per worker, "
   ]
  },
  {
   "cell_type": "code",
   "execution_count": 105,
   "metadata": {},
   "outputs": [
    {
     "name": "stdout",
     "output_type": "stream",
     "text": [
      "                                  OLS Regression Results                                  \n",
      "==========================================================================================\n",
      "Dep. Variable:     pct_walking_and_public_transit   R-squared:                       0.770\n",
      "Model:                                        OLS   Adj. R-squared:                  0.769\n",
      "Method:                             Least Squares   F-statistic:                     513.2\n",
      "Date:                            Sun, 18 Dec 2022   Prob (F-statistic):               0.00\n",
      "Time:                                    13:48:02   Log-Likelihood:                 2886.2\n",
      "No. Observations:                            1389   AIC:                            -5752.\n",
      "Df Residuals:                                1379   BIC:                            -5700.\n",
      "Df Model:                                       9                                         \n",
      "Covariance Type:                        nonrobust                                         \n",
      "===============================================================================================================\n",
      "                                                  coef    std err          t      P>|t|      [0.025      0.975]\n",
      "---------------------------------------------------------------------------------------------------------------\n",
      "Intercept                                       0.6086      0.011     54.372      0.000       0.587       0.631\n",
      "vehicles_per_worker                            -0.6510      0.012    -53.164      0.000      -0.675      -0.627\n",
      "roads_length                                -2.416e-09   5.03e-10     -4.807      0.000    -3.4e-09   -1.43e-09\n",
      "intersections                               -3.792e-07   1.86e-07     -2.040      0.042   -7.44e-07   -1.45e-08\n",
      "total_population                             2.136e-08   9.38e-09      2.276      0.023    2.95e-09    3.98e-08\n",
      "average_commute_time_per_worker_drive_alone    -0.0006      0.000     -3.494      0.000      -0.001      -0.000\n",
      "pct_unemployed                                  0.0012      0.000      3.366      0.001       0.000       0.002\n",
      "land_area                                    4.181e-13   7.15e-14      5.848      0.000    2.78e-13    5.58e-13\n",
      "cbp_total_employees                          9.862e-08   1.77e-08      5.559      0.000    6.38e-08    1.33e-07\n",
      "cbp_total_establishments                    -1.061e-06   4.21e-07     -2.520      0.012   -1.89e-06   -2.35e-07\n",
      "==============================================================================\n",
      "Omnibus:                      694.276   Durbin-Watson:                   1.796\n",
      "Prob(Omnibus):                  0.000   Jarque-Bera (JB):            16824.324\n",
      "Skew:                           1.790   Prob(JB):                         0.00\n",
      "Kurtosis:                      19.670   Cond. No.                     2.65e+11\n",
      "==============================================================================\n",
      "\n",
      "Notes:\n",
      "[1] Standard Errors assume that the covariance matrix of the errors is correctly specified.\n",
      "[2] The condition number is large, 2.65e+11. This might indicate that there are\n",
      "strong multicollinearity or other numerical problems.\n"
     ]
    }
   ],
   "source": [
    "# ols regression logic the following\n",
    "# walking and public total pct is affected by the following\n",
    "# average vehicles per worker\n",
    "# \n",
    "lm_ols = smf.ols(formula = 'pct_walking_and_public_transit ~ \\\n",
    "                                vehicles_per_worker + \\\n",
    "                                roads_length + \\\n",
    "                                intersections + \\\n",
    "                                total_population + \\\n",
    "                                average_commute_time_per_worker_drive_alone + \\\n",
    "                                pct_unemployed + \\\n",
    "                                land_area + \\\n",
    "                                cbp_total_employees + \\\n",
    "                                cbp_total_establishments',\n",
    "                                data = df).fit()\n",
    "print (lm_ols.summary())"
   ]
  },
  {
   "cell_type": "code",
   "execution_count": 99,
   "metadata": {},
   "outputs": [
    {
     "name": "stdout",
     "output_type": "stream",
     "text": [
      "                                  OLS Regression Results                                  \n",
      "==========================================================================================\n",
      "Dep. Variable:     pct_walking_and_public_transit   R-squared:                       0.698\n",
      "Model:                                        OLS   Adj. R-squared:                  0.697\n",
      "Method:                             Least Squares   F-statistic:                     904.9\n",
      "Date:                            Sun, 18 Dec 2022   Prob (F-statistic):               0.00\n",
      "Time:                                    13:45:34   Log-Likelihood:                 6493.6\n",
      "No. Observations:                            3139   AIC:                        -1.297e+04\n",
      "Df Residuals:                                3130   BIC:                        -1.291e+04\n",
      "Df Model:                                       8                                         \n",
      "Covariance Type:                        nonrobust                                         \n",
      "============================================================================================\n",
      "                               coef    std err          t      P>|t|      [0.025      0.975]\n",
      "--------------------------------------------------------------------------------------------\n",
      "Intercept                    0.5551      0.007     74.464      0.000       0.540       0.570\n",
      "vehicles_per_worker         -0.6009      0.009    -69.200      0.000      -0.618      -0.584\n",
      "roads_length             -1.615e-09   3.88e-10     -4.168      0.000   -2.38e-09   -8.55e-10\n",
      "intersections            -3.544e-07   1.57e-07     -2.257      0.024   -6.62e-07   -4.66e-08\n",
      "total_population          1.394e-08   8.86e-09      1.573      0.116   -3.44e-09    3.13e-08\n",
      "pct_unemployed               0.0001      0.000      0.657      0.511      -0.000       0.001\n",
      "land_area                 6.441e-13   6.58e-14      9.783      0.000    5.15e-13    7.73e-13\n",
      "cbp_total_employees       1.191e-07   1.71e-08      6.946      0.000    8.55e-08    1.53e-07\n",
      "cbp_total_establishments -1.254e-06   4.06e-07     -3.087      0.002   -2.05e-06   -4.57e-07\n",
      "==============================================================================\n",
      "Omnibus:                     2337.812   Durbin-Watson:                   1.779\n",
      "Prob(Omnibus):                  0.000   Jarque-Bera (JB):           123288.450\n",
      "Skew:                           3.009   Prob(JB):                         0.00\n",
      "Kurtosis:                      33.107   Cond. No.                     2.05e+11\n",
      "==============================================================================\n",
      "\n",
      "Notes:\n",
      "[1] Standard Errors assume that the covariance matrix of the errors is correctly specified.\n",
      "[2] The condition number is large, 2.05e+11. This might indicate that there are\n",
      "strong multicollinearity or other numerical problems.\n"
     ]
    }
   ],
   "source": [
    "lm_ols = smf.ols(formula = 'pct_walking_and_public_transit ~ \\\n",
    "                                vehicles_per_worker + \\\n",
    "                                roads_length + \\\n",
    "                                intersections + \\\n",
    "                                total_population + \\\n",
    "                                pct_unemployed + \\\n",
    "                                land_area + \\\n",
    "                                cbp_total_employees + \\\n",
    "                                cbp_total_establishments \\\n",
    "                                ',\n",
    "                                # average_commute_time_per_worker_drive_alone + \\\n",
    "data = df).fit()\n",
    "print (lm_ols.summary())"
   ]
  },
  {
   "cell_type": "code",
   "execution_count": 100,
   "metadata": {},
   "outputs": [
    {
     "name": "stdout",
     "output_type": "stream",
     "text": [
      "                                  OLS Regression Results                                  \n",
      "==========================================================================================\n",
      "Dep. Variable:     pct_walking_and_public_transit   R-squared:                       0.696\n",
      "Model:                                        OLS   Adj. R-squared:                  0.696\n",
      "Method:                             Least Squares   F-statistic:                     1198.\n",
      "Date:                            Sun, 18 Dec 2022   Prob (F-statistic):               0.00\n",
      "Time:                                    13:45:34   Log-Likelihood:                 6463.1\n",
      "No. Observations:                            3141   AIC:                        -1.291e+04\n",
      "Df Residuals:                                3134   BIC:                        -1.287e+04\n",
      "Df Model:                                       6                                         \n",
      "Covariance Type:                        nonrobust                                         \n",
      "=======================================================================================\n",
      "                          coef    std err          t      P>|t|      [0.025      0.975]\n",
      "---------------------------------------------------------------------------------------\n",
      "Intercept               0.5668      0.007     77.179      0.000       0.552       0.581\n",
      "vehicles_per_worker    -0.6141      0.009    -71.584      0.000      -0.631      -0.597\n",
      "roads_length        -1.981e-09   3.89e-10     -5.092      0.000   -2.74e-09   -1.22e-09\n",
      "intersections       -2.202e-07   1.57e-07     -1.401      0.161   -5.28e-07    8.79e-08\n",
      "total_population     2.996e-08   3.16e-09      9.467      0.000    2.38e-08    3.62e-08\n",
      "pct_unemployed          0.0001      0.000      0.480      0.631      -0.000       0.001\n",
      "land_area            6.131e-13   6.64e-14      9.229      0.000    4.83e-13    7.43e-13\n",
      "==============================================================================\n",
      "Omnibus:                     2274.349   Durbin-Watson:                   1.785\n",
      "Prob(Omnibus):                  0.000   Jarque-Bera (JB):           114450.437\n",
      "Skew:                           2.893   Prob(JB):                         0.00\n",
      "Kurtosis:                      32.000   Cond. No.                     2.00e+11\n",
      "==============================================================================\n",
      "\n",
      "Notes:\n",
      "[1] Standard Errors assume that the covariance matrix of the errors is correctly specified.\n",
      "[2] The condition number is large,  2e+11. This might indicate that there are\n",
      "strong multicollinearity or other numerical problems.\n"
     ]
    }
   ],
   "source": [
    "lm_ols = smf.ols(formula = 'pct_walking_and_public_transit ~ \\\n",
    "                                vehicles_per_worker + \\\n",
    "                                roads_length + \\\n",
    "                                intersections + \\\n",
    "                                total_population + \\\n",
    "                                pct_unemployed + \\\n",
    "                                land_area ',\n",
    "                                # average_commute_time_per_worker_drive_alone + \\\n",
    "data = df).fit()\n",
    "print (lm_ols.summary())"
   ]
  },
  {
   "attachments": {},
   "cell_type": "markdown",
   "metadata": {},
   "source": [
    "# Comparing data for business establishment per county\n",
    "## this is on top of total road density, road intersection density, total population, total vehicles\n",
    "## include total time per commute method driving / carpooling vs walking & everything else"
   ]
  },
  {
   "cell_type": "code",
   "execution_count": null,
   "metadata": {},
   "outputs": [],
   "source": [
    "# lm_ols = smf.ols(formula = 'pct_walking_and_public_transit ~ \\\n",
    "#                                 vehicles_per_worker + \\\n",
    "#                                 roads_length + \\\n",
    "#                                 intersections + \\\n",
    "#                                 total_population + \\\n",
    "#                                 pct_unemployed + \\\n",
    "#                                 land_area ',\n",
    "# data = df).fit()\n",
    "# print (lm_ols.summary())"
   ]
  },
  {
   "cell_type": "code",
   "execution_count": 107,
   "metadata": {},
   "outputs": [
    {
     "name": "stdout",
     "output_type": "stream",
     "text": [
      "                                  OLS Regression Results                                  \n",
      "==========================================================================================\n",
      "Dep. Variable:     pct_walking_and_public_transit   R-squared:                       0.776\n",
      "Model:                                        OLS   Adj. R-squared:                  0.775\n",
      "Method:                             Least Squares   F-statistic:                     682.6\n",
      "Date:                            Sun, 18 Dec 2022   Prob (F-statistic):               0.00\n",
      "Time:                                    16:03:54   Log-Likelihood:                 2903.6\n",
      "No. Observations:                            1389   AIC:                            -5791.\n",
      "Df Residuals:                                1381   BIC:                            -5749.\n",
      "Df Model:                                       7                                         \n",
      "Covariance Type:                        nonrobust                                         \n",
      "=======================================================================================\n",
      "                          coef    std err          t      P>|t|      [0.025      0.975]\n",
      "---------------------------------------------------------------------------------------\n",
      "Intercept               0.5813      0.010     55.578      0.000       0.561       0.602\n",
      "vehicles_per_worker    -0.6361      0.012    -52.283      0.000      -0.660      -0.612\n",
      "roads_length        -1.792e-09   4.92e-10     -3.646      0.000   -2.76e-09   -8.28e-10\n",
      "intersections       -5.598e-07   1.83e-07     -3.068      0.002   -9.18e-07   -2.02e-07\n",
      "total_population    -1.471e-07   1.99e-08     -7.394      0.000   -1.86e-07   -1.08e-07\n",
      "pct_unemployed          0.0009      0.000      2.774      0.006       0.000       0.002\n",
      "land_area            4.991e-13   6.98e-14      7.150      0.000    3.62e-13    6.36e-13\n",
      "ttl_households       5.246e-07   5.72e-08      9.164      0.000    4.12e-07    6.37e-07\n",
      "==============================================================================\n",
      "Omnibus:                      692.061   Durbin-Watson:                   1.858\n",
      "Prob(Omnibus):                  0.000   Jarque-Bera (JB):            15165.001\n",
      "Skew:                           1.814   Prob(JB):                         0.00\n",
      "Kurtosis:                      18.775   Cond. No.                     2.64e+11\n",
      "==============================================================================\n",
      "\n",
      "Notes:\n",
      "[1] Standard Errors assume that the covariance matrix of the errors is correctly specified.\n",
      "[2] The condition number is large, 2.64e+11. This might indicate that there are\n",
      "strong multicollinearity or other numerical problems.\n"
     ]
    }
   ],
   "source": [
    "lm_ols = smf.ols(formula = 'pct_walking_and_public_transit ~ \\\n",
    "                                vehicles_per_worker + \\\n",
    "                                roads_length + \\\n",
    "                                intersections + \\\n",
    "                                total_population + \\\n",
    "                                pct_unemployed + \\\n",
    "                                land_area + \\\n",
    "                                ttl_households + \\\n",
    "                                land_area',\n",
    "data = df).fit()\n",
    "print (lm_ols.summary())"
   ]
  },
  {
   "cell_type": "code",
   "execution_count": 108,
   "metadata": {},
   "outputs": [
    {
     "name": "stdout",
     "output_type": "stream",
     "text": [
      "                                  OLS Regression Results                                  \n",
      "==========================================================================================\n",
      "Dep. Variable:     pct_walking_and_public_transit   R-squared:                       0.776\n",
      "Model:                                        OLS   Adj. R-squared:                  0.775\n",
      "Method:                             Least Squares   F-statistic:                     597.0\n",
      "Date:                            Sun, 18 Dec 2022   Prob (F-statistic):               0.00\n",
      "Time:                                    16:03:55   Log-Likelihood:                 2903.8\n",
      "No. Observations:                            1389   AIC:                            -5790.\n",
      "Df Residuals:                                1380   BIC:                            -5742.\n",
      "Df Model:                                       8                                         \n",
      "Covariance Type:                        nonrobust                                         \n",
      "============================================================================================\n",
      "                               coef    std err          t      P>|t|      [0.025      0.975]\n",
      "--------------------------------------------------------------------------------------------\n",
      "Intercept                    0.5819      0.011     55.274      0.000       0.561       0.603\n",
      "vehicles_per_worker         -0.6367      0.012    -52.076      0.000      -0.661      -0.613\n",
      "roads_length               -1.8e-09   4.92e-10     -3.658      0.000   -2.76e-09   -8.35e-10\n",
      "intersections            -5.678e-07   1.83e-07     -3.100      0.002   -9.27e-07   -2.08e-07\n",
      "total_population          -1.45e-07   2.03e-08     -7.155      0.000   -1.85e-07   -1.05e-07\n",
      "pct_unemployed               0.0009      0.000      2.715      0.007       0.000       0.002\n",
      "land_area                 4.988e-13   6.98e-14      7.143      0.000    3.62e-13    6.36e-13\n",
      "ttl_households            5.322e-07    5.9e-08      9.015      0.000    4.16e-07    6.48e-07\n",
      "cbp_total_establishments -1.711e-07   3.21e-07     -0.533      0.594      -8e-07    4.58e-07\n",
      "==============================================================================\n",
      "Omnibus:                      688.284   Durbin-Watson:                   1.859\n",
      "Prob(Omnibus):                  0.000   Jarque-Bera (JB):            15006.456\n",
      "Skew:                           1.802   Prob(JB):                         0.00\n",
      "Kurtosis:                      18.694   Cond. No.                     2.65e+11\n",
      "==============================================================================\n",
      "\n",
      "Notes:\n",
      "[1] Standard Errors assume that the covariance matrix of the errors is correctly specified.\n",
      "[2] The condition number is large, 2.65e+11. This might indicate that there are\n",
      "strong multicollinearity or other numerical problems.\n"
     ]
    }
   ],
   "source": [
    "lm_ols = smf.ols(formula = 'pct_walking_and_public_transit ~ \\\n",
    "                                vehicles_per_worker + \\\n",
    "                                roads_length + \\\n",
    "                                intersections + \\\n",
    "                                total_population + \\\n",
    "                                pct_unemployed + \\\n",
    "                                land_area + \\\n",
    "                                ttl_households + \\\n",
    "                                land_area + \\\n",
    "                                cbp_total_establishments',\n",
    "data = df).fit()\n",
    "print (lm_ols.summary())"
   ]
  },
  {
   "attachments": {},
   "cell_type": "markdown",
   "metadata": {},
   "source": [
    "# LASSO REGRESSION"
   ]
  },
  {
   "cell_type": "code",
   "execution_count": 101,
   "metadata": {},
   "outputs": [],
   "source": [
    "from sklearn.model_selection import train_test_split\n",
    "from sklearn.linear_model import LinearRegression\n",
    "from sklearn.linear_model import Ridge\n",
    "from sklearn.linear_model import Lasso\n",
    "from sklearn.model_selection import cross_val_score\n",
    "# from sklearn.linear_model import ElasticNet\n",
    "# model = ElasticNet(alpha=1.0, l1_ratio=0.5)\n",
    "from sklearn import preprocessing\n",
    "scaler = preprocessing.StandardScaler()\n",
    "\n",
    "# X = df['pct_walking_and_public_transit']\n",
    "# y = df[['vehicles_per_worker','roads_length','intersections','total_population','average_commute_time_per_worker_drive_alone','pct_unemployed','land_area']]\n",
    "\n",
    "df = df.dropna(subset=['pct_walking_and_public_transit','vehicles_per_worker','roads_length','intersections','total_population','average_commute_time_per_worker_drive_alone','pct_unemployed','land_area','cbp_total_employees', 'cbp_total_establishments'])\n",
    "\n",
    "X = df[['vehicles_per_worker','roads_length','intersections','total_population','average_commute_time_per_worker_drive_alone','pct_unemployed','land_area','cbp_total_employees', 'cbp_total_establishments']]\n",
    "y = df['pct_walking_and_public_transit']"
   ]
  },
  {
   "cell_type": "code",
   "execution_count": 102,
   "metadata": {},
   "outputs": [],
   "source": [
    "\n",
    "# Here, I standardize by X data using StandardScalar\n",
    "X_train, X_test, y_train, y_test = train_test_split(X, y)\n",
    "# scaler.fit(X_test)\n",
    "# X_test_scaled = scaler.transform(X_test)\n",
    "# scaler.fit(X_train)\n",
    "# X_train_scaled = scaler.transform(X_train)\n",
    "\n",
    "scaler = preprocessing.StandardScaler().fit(X_train)\n",
    "X_train_scaled = scaler.transform(X_train)\n",
    "X_test_scaled = scaler.transform(X_test)"
   ]
  },
  {
   "cell_type": "code",
   "execution_count": 103,
   "metadata": {},
   "outputs": [
    {
     "name": "stdout",
     "output_type": "stream",
     "text": [
      "LASSO REGRESSION (UNSCALED DATA)\n",
      "Training set score: 0.353\n",
      "Test set score: 0.142\n",
      "Mean Cross-Validation, Kfold: -0.020\n",
      "Mean MAE: 3.711 (0.549)\n"
     ]
    }
   ],
   "source": [
    "lasso = Lasso().fit(X_train, y_train) # Fit the training data to a lasso regression line with alpha = 0.01 and 100,000 iterations\n",
    "\n",
    "print(\"LASSO REGRESSION (UNSCALED DATA)\") # LASSO is L1 penalty, which adds “absolute value of magnitude” of coefficient as penalty term to the loss function. Good for feature selection when you have a lot of features.\n",
    "print(\"Training set score: {:.3f}\".format(lasso.score(X_train, y_train)))\n",
    "print(\"Test set score: {:.3f}\".format(lasso.score(X_test, y_test)))\n",
    "\n",
    "# Kfold cross validation\n",
    "print(\"Mean Cross-Validation, Kfold: {:.3f}\".format(np.mean(cross_val_score(lasso, X_train, y_train))))\n",
    "\n",
    "lasso_unscaled = np.mean(cross_val_score(lasso, X_train, y_train)) # Will use later to compare results\n",
    "\n",
    "# define model\n",
    "model = Lasso(alpha=1.0)\n",
    "\n",
    "# evaluate an lasso regression model on the dataset\n",
    "from numpy import mean\n",
    "from numpy import std\n",
    "from numpy import absolute\n",
    "from pandas import read_csv\n",
    "from sklearn.model_selection import cross_val_score\n",
    "from sklearn.model_selection import RepeatedKFold\n",
    "from sklearn.linear_model import Lasso\n",
    "# load the dataset\n",
    "url = 'https://raw.githubusercontent.com/jbrownlee/Datasets/master/housing.csv'\n",
    "dataframe = read_csv(url, header=None)\n",
    "data = dataframe.values\n",
    "X, y = data[:, :-1], data[:, -1]\n",
    "# define model\n",
    "model = Lasso(alpha=1.0)\n",
    "# define model evaluation method\n",
    "cv = RepeatedKFold(n_splits=10, n_repeats=3, random_state=1)\n",
    "# evaluate model\n",
    "scores = cross_val_score(model, X, y, scoring='neg_mean_absolute_error', cv=cv, n_jobs=-1)\n",
    "# force scores to be positive\n",
    "scores = absolute(scores)\n",
    "print('Mean MAE: %.3f (%.3f)' % (mean(scores), std(scores)))"
   ]
  },
  {
   "cell_type": "code",
   "execution_count": 104,
   "metadata": {},
   "outputs": [
    {
     "name": "stdout",
     "output_type": "stream",
     "text": [
      "(506, 14)\n",
      "        0     1     2   3      4      5     6       7   8      9     10  \\\n",
      "0  0.00632  18.0  2.31   0  0.538  6.575  65.2  4.0900   1  296.0  15.3   \n",
      "1  0.02731   0.0  7.07   0  0.469  6.421  78.9  4.9671   2  242.0  17.8   \n",
      "2  0.02729   0.0  7.07   0  0.469  7.185  61.1  4.9671   2  242.0  17.8   \n",
      "3  0.03237   0.0  2.18   0  0.458  6.998  45.8  6.0622   3  222.0  18.7   \n",
      "4  0.06905   0.0  2.18   0  0.458  7.147  54.2  6.0622   3  222.0  18.7   \n",
      "\n",
      "       11    12    13  \n",
      "0  396.90  4.98  24.0  \n",
      "1  396.90  9.14  21.6  \n",
      "2  392.83  4.03  34.7  \n",
      "3  394.63  2.94  33.4  \n",
      "4  396.90  5.33  36.2  \n"
     ]
    }
   ],
   "source": [
    "# load and summarize the housing dataset\n",
    "from pandas import read_csv\n",
    "from matplotlib import pyplot\n",
    "# load dataset\n",
    "url = 'https://raw.githubusercontent.com/jbrownlee/Datasets/master/housing.csv'\n",
    "dataframe = read_csv(url, header=None)\n",
    "# summarize shape\n",
    "print(dataframe.shape)\n",
    "# summarize first few lines\n",
    "print(dataframe.head())"
   ]
  }
 ],
 "metadata": {
  "kernelspec": {
   "display_name": "base",
   "language": "python",
   "name": "python3"
  },
  "language_info": {
   "codemirror_mode": {
    "name": "ipython",
    "version": 3
   },
   "file_extension": ".py",
   "mimetype": "text/x-python",
   "name": "python",
   "nbconvert_exporter": "python",
   "pygments_lexer": "ipython3",
   "version": "3.9.13"
  },
  "orig_nbformat": 4,
  "vscode": {
   "interpreter": {
    "hash": "b8b887db99f8edfa7f3e3a008cc1b31fa63afeb09acb3c9f070418078094f7b2"
   }
  }
 },
 "nbformat": 4,
 "nbformat_minor": 2
}
