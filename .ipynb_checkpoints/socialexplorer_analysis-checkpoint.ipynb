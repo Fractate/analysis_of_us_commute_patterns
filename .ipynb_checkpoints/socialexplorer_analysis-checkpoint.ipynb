{
 "cells": [
  {
   "cell_type": "markdown",
   "metadata": {
    "jp-MarkdownHeadingCollapsed": true,
    "tags": []
   },
   "source": [
    "# Data Prep"
   ]
  },
  {
   "cell_type": "code",
   "execution_count": null,
   "metadata": {},
   "outputs": [],
   "source": [
    "# Init\n",
    "# choropleth\n",
    "from __future__ import division\n",
    "import pandas as pd\n",
    "import numpy as np\n",
    "import statsmodels.api as sm\n",
    "import statsmodels.formula.api as smf\n",
    "import os\n",
    "import matplotlib.pyplot as plt\n",
    "import seaborn as sns"
   ]
  },
  {
   "cell_type": "code",
   "execution_count": null,
   "metadata": {},
   "outputs": [],
   "source": [
    "# NOTE - THIS TAKES AROUND 13 MINUTES\n",
    "\n",
    "# OLD # skips the 2nd row that contains indexing names\n",
    "# Now looking at the row that is consistent between 2009 and 2019 data, using the indexing csv file for guidance.\n",
    "df_2009 = pd.read_csv('./data_retrieval/df_2009.csv', na_values=\".\", skiprows=[0])\n",
    "df_2019 = pd.read_csv('./data_retrieval/df_2019.csv', na_values=\".\", skiprows=[0])"
   ]
  },
  {
   "cell_type": "code",
   "execution_count": null,
   "metadata": {},
   "outputs": [],
   "source": [
    "for idx in df_2009.index:\n",
    "    df_2009.loc[df_2009.index[idx], 'fips_str'] = str(df_2009.loc[df_2009.index[idx], 'Geo_FIPS'])\n",
    "    if len(df_2009.loc[df_2009.index[idx], 'fips_str']) == 4:\n",
    "        df_2009.loc[df_2009.index[idx], 'fips_str'] = '0' + df_2009.loc[df_2009.index[idx], 'fips_str']\n",
    "df_2009['fips_str'].head()"
   ]
  },
  {
   "cell_type": "code",
   "execution_count": null,
   "metadata": {},
   "outputs": [],
   "source": [
    "for idx in df_2019.index:\n",
    "    df_2019.loc[df_2019.index[idx], 'fips_str'] = str(df_2019.loc[df_2019.index[idx], 'Geo_FIPS'])\n",
    "    if len(df_2019.loc[df_2019.index[idx], 'fips_str']) == 4:\n",
    "        df_2019.loc[df_2019.index[idx], 'fips_str'] = '0' + df_2019.loc[df_2019.index[idx], 'fips_str']\n",
    "df_2019['fips_str'].head()"
   ]
  },
  {
   "cell_type": "code",
   "execution_count": null,
   "metadata": {},
   "outputs": [],
   "source": [
    "for col in df_2009.columns: \n",
    "    print(col) "
   ]
  },
  {
   "cell_type": "code",
   "execution_count": null,
   "metadata": {},
   "outputs": [],
   "source": [
    "for col in df_2019.columns: \n",
    "    print(col) "
   ]
  },
  {
   "cell_type": "markdown",
   "metadata": {
    "jp-MarkdownHeadingCollapsed": true,
    "tags": []
   },
   "source": [
    "# Data Sort, Exploratory, Etc playground"
   ]
  },
  {
   "cell_type": "code",
   "execution_count": null,
   "metadata": {},
   "outputs": [],
   "source": [
    "# df_temp = df_analysis.sort_values(by=['total_workers_over_16'])\n",
    "# df_temp\n",
    "\n",
    "# df_2009['Workers 16 Years and Over in Households']"
   ]
  },
  {
   "cell_type": "markdown",
   "metadata": {
    "tags": []
   },
   "source": [
    "# Data Analysis (2019 value minus 2009 value)"
   ]
  },
  {
   "cell_type": "markdown",
   "metadata": {
    "jp-MarkdownHeadingCollapsed": true,
    "tags": []
   },
   "source": [
    "##### Workers 16 years and over B08006001"
   ]
  },
  {
   "cell_type": "code",
   "execution_count": null,
   "metadata": {},
   "outputs": [],
   "source": [
    "acs_variable = 'B08006001'\n",
    "\n",
    "variable_name_2009 = 'ACS09_5yr_' + acs_variable\n",
    "variable_name_2019 = 'ACS19_5yr_' + acs_variable\n",
    "\n",
    "df_analysis = pd.DataFrame(df_2019['fips_str'])\n",
    "df_analysis['choropleth_data'] = df_2019[variable_name_2019] - df_2009[variable_name_2009]\n",
    "df_temp = df_analysis.sort_values(by=['choropleth_data'])\n",
    "df_temp = df_temp.dropna(subset = ['choropleth_data'])\n",
    "\n",
    "from urllib.request import urlopen\n",
    "import json\n",
    "with urlopen('https://raw.githubusercontent.com/plotly/datasets/master/geojson-counties-fips.json') as response:\n",
    "    counties = json.load(response)\n",
    "\n",
    "import plotly.express as px\n",
    "\n",
    "fig = px.choropleth(df_temp, geojson=counties, locations='fips_str', color='choropleth_data',\n",
    "                           color_continuous_scale=\"Viridis\",\n",
    "                           range_color=((df_temp['choropleth_data'].min()/10), (df_temp['choropleth_data'].max()/10)),\n",
    "                           scope=\"usa\",\n",
    "                           labels={'aa':'aaaa'}\n",
    "                          )\n",
    "fig.update_layout(margin={\"r\":0,\"t\":0,\"l\":0,\"b\":0})\n",
    "fig.show()"
   ]
  },
  {
   "cell_type": "markdown",
   "metadata": {
    "jp-MarkdownHeadingCollapsed": true,
    "tags": []
   },
   "source": [
    "##### Workers 16 Years and Over in Households & their vehicles B0801400#"
   ]
  },
  {
   "cell_type": "code",
   "execution_count": null,
   "metadata": {},
   "outputs": [],
   "source": [
    "acs_variable = 'B08014001' # Workers 16 Years and Over in Households\n",
    "\n",
    "variable_name_2009 = 'ACS09_5yr_' + acs_variable\n",
    "variable_name_2019 = 'ACS19_5yr_' + acs_variable\n",
    "\n",
    "df_analysis = pd.DataFrame(df_2019['fips_str'])\n",
    "df_analysis['choropleth_data'] = df_2019[variable_name_2019] - df_2009[variable_name_2009]\n",
    "df_temp = df_analysis.sort_values(by=['choropleth_data'])\n",
    "df_temp = df_temp.dropna(subset = ['choropleth_data'])\n",
    "\n",
    "from urllib.request import urlopen\n",
    "import json\n",
    "with urlopen('https://raw.githubusercontent.com/plotly/datasets/master/geojson-counties-fips.json') as response:\n",
    "    counties = json.load(response)\n",
    "\n",
    "import plotly.express as px\n",
    "\n",
    "fig = px.choropleth(df_temp, geojson=counties, locations='fips_str', color='choropleth_data',\n",
    "                           color_continuous_scale=\"Viridis\",\n",
    "                           range_color=((df_temp['choropleth_data'].min()/10), (df_temp['choropleth_data'].max()/10)),\n",
    "                           scope=\"usa\",\n",
    "                           labels={'aa':'aaaa'}\n",
    "                          )\n",
    "fig.update_layout(margin={\"r\":0,\"t\":0,\"l\":0,\"b\":0})\n",
    "fig.show()"
   ]
  },
  {
   "cell_type": "code",
   "execution_count": null,
   "metadata": {},
   "outputs": [],
   "source": [
    "acs_variable = 'B08014002' # Workers 16 Years and Over in Households: No Vehicle Available\n",
    "\n",
    "variable_name_2009 = 'ACS09_5yr_' + acs_variable\n",
    "variable_name_2019 = 'ACS19_5yr_' + acs_variable\n",
    "\n",
    "df_analysis = pd.DataFrame(df_2019['fips_str'])\n",
    "df_analysis['choropleth_data'] = df_2019[variable_name_2019] - df_2009[variable_name_2009]\n",
    "df_temp = df_analysis.sort_values(by=['choropleth_data'])\n",
    "df_temp = df_temp.dropna(subset = ['choropleth_data'])\n",
    "\n",
    "from urllib.request import urlopen\n",
    "import json\n",
    "with urlopen('https://raw.githubusercontent.com/plotly/datasets/master/geojson-counties-fips.json') as response:\n",
    "    counties = json.load(response)\n",
    "\n",
    "import plotly.express as px\n",
    "\n",
    "fig = px.choropleth(df_temp, geojson=counties, locations='fips_str', color='choropleth_data',\n",
    "                           color_continuous_scale=\"Viridis\",\n",
    "                           range_color=((df_temp['choropleth_data'].min()/10), (df_temp['choropleth_data'].max()/10)),\n",
    "                           scope=\"usa\",\n",
    "                           labels={'aa':'aaaa'}\n",
    "                          )\n",
    "fig.update_layout(margin={\"r\":0,\"t\":0,\"l\":0,\"b\":0})\n",
    "fig.show()"
   ]
  },
  {
   "cell_type": "code",
   "execution_count": null,
   "metadata": {},
   "outputs": [],
   "source": [
    "acs_variable = 'B08014003' # Workers 16 Years and Over in Households: 1 Vehicle Available\n",
    "\n",
    "variable_name_2009 = 'ACS09_5yr_' + acs_variable\n",
    "variable_name_2019 = 'ACS19_5yr_' + acs_variable\n",
    "\n",
    "df_analysis = pd.DataFrame(df_2019['fips_str'])\n",
    "df_analysis['choropleth_data'] = df_2019[variable_name_2019] - df_2009[variable_name_2009]\n",
    "df_temp = df_analysis.sort_values(by=['choropleth_data'])\n",
    "df_temp = df_temp.dropna(subset = ['choropleth_data'])\n",
    "\n",
    "from urllib.request import urlopen\n",
    "import json\n",
    "with urlopen('https://raw.githubusercontent.com/plotly/datasets/master/geojson-counties-fips.json') as response:\n",
    "    counties = json.load(response)\n",
    "\n",
    "import plotly.express as px\n",
    "\n",
    "fig = px.choropleth(df_temp, geojson=counties, locations='fips_str', color='choropleth_data',\n",
    "                           color_continuous_scale=\"Viridis\",\n",
    "                           range_color=((df_temp['choropleth_data'].min()/10), (df_temp['choropleth_data'].max()/10)),\n",
    "                           scope=\"usa\",\n",
    "                           labels={'aa':'aaaa'}\n",
    "                          )\n",
    "fig.update_layout(margin={\"r\":0,\"t\":0,\"l\":0,\"b\":0})\n",
    "fig.show()"
   ]
  },
  {
   "cell_type": "code",
   "execution_count": null,
   "metadata": {},
   "outputs": [],
   "source": [
    "acs_variable = 'B08014004' # Workers 16 Years and Over in Households: 2 Vehicles Available\n",
    "\n",
    "variable_name_2009 = 'ACS09_5yr_' + acs_variable\n",
    "variable_name_2019 = 'ACS19_5yr_' + acs_variable\n",
    "\n",
    "df_analysis = pd.DataFrame(df_2019['fips_str'])\n",
    "df_analysis['choropleth_data'] = df_2019[variable_name_2019] - df_2009[variable_name_2009]\n",
    "df_temp = df_analysis.sort_values(by=['choropleth_data'])\n",
    "df_temp = df_temp.dropna(subset = ['choropleth_data'])\n",
    "\n",
    "from urllib.request import urlopen\n",
    "import json\n",
    "with urlopen('https://raw.githubusercontent.com/plotly/datasets/master/geojson-counties-fips.json') as response:\n",
    "    counties = json.load(response)\n",
    "\n",
    "import plotly.express as px\n",
    "\n",
    "fig = px.choropleth(df_temp, geojson=counties, locations='fips_str', color='choropleth_data',\n",
    "                           color_continuous_scale=\"Viridis\",\n",
    "                           range_color=((df_temp['choropleth_data'].min()/10), (df_temp['choropleth_data'].max()/10)),\n",
    "                           scope=\"usa\",\n",
    "                           labels={'aa':'aaaa'}\n",
    "                          )\n",
    "fig.update_layout(margin={\"r\":0,\"t\":0,\"l\":0,\"b\":0})\n",
    "fig.show()"
   ]
  },
  {
   "cell_type": "code",
   "execution_count": null,
   "metadata": {},
   "outputs": [],
   "source": [
    "acs_variable = 'B08014005' # Workers 16 Years and Over in Households: 3 Vehicles Available\n",
    "\n",
    "variable_name_2009 = 'ACS09_5yr_' + acs_variable\n",
    "variable_name_2019 = 'ACS19_5yr_' + acs_variable\n",
    "\n",
    "df_analysis = pd.DataFrame(df_2019['fips_str'])\n",
    "df_analysis['choropleth_data'] = df_2019[variable_name_2019] - df_2009[variable_name_2009]\n",
    "df_temp = df_analysis.sort_values(by=['choropleth_data'])\n",
    "df_temp = df_temp.dropna(subset = ['choropleth_data'])\n",
    "\n",
    "from urllib.request import urlopen\n",
    "import json\n",
    "with urlopen('https://raw.githubusercontent.com/plotly/datasets/master/geojson-counties-fips.json') as response:\n",
    "    counties = json.load(response)\n",
    "\n",
    "import plotly.express as px\n",
    "\n",
    "fig = px.choropleth(df_temp, geojson=counties, locations='fips_str', color='choropleth_data',\n",
    "                           color_continuous_scale=\"Viridis\",\n",
    "                           range_color=((df_temp['choropleth_data'].min()/10), (df_temp['choropleth_data'].max()/10)),\n",
    "                           scope=\"usa\",\n",
    "                           labels={'aa':'aaaa'}\n",
    "                          )\n",
    "fig.update_layout(margin={\"r\":0,\"t\":0,\"l\":0,\"b\":0})\n",
    "fig.show()"
   ]
  },
  {
   "cell_type": "code",
   "execution_count": null,
   "metadata": {},
   "outputs": [],
   "source": [
    "acs_variable = 'B08014006' # Workers 16 Years and Over in Households: 4 Vehicles Available\n",
    "\n",
    "variable_name_2009 = 'ACS09_5yr_' + acs_variable\n",
    "variable_name_2019 = 'ACS19_5yr_' + acs_variable\n",
    "\n",
    "df_analysis = pd.DataFrame(df_2019['fips_str'])\n",
    "df_analysis['choropleth_data'] = df_2019[variable_name_2019] - df_2009[variable_name_2009]\n",
    "df_temp = df_analysis.sort_values(by=['choropleth_data'])\n",
    "df_temp = df_temp.dropna(subset = ['choropleth_data'])\n",
    "\n",
    "from urllib.request import urlopen\n",
    "import json\n",
    "with urlopen('https://raw.githubusercontent.com/plotly/datasets/master/geojson-counties-fips.json') as response:\n",
    "    counties = json.load(response)\n",
    "\n",
    "import plotly.express as px\n",
    "\n",
    "fig = px.choropleth(df_temp, geojson=counties, locations='fips_str', color='choropleth_data',\n",
    "                           color_continuous_scale=\"Viridis\",\n",
    "                           range_color=((df_temp['choropleth_data'].min()/10), (df_temp['choropleth_data'].max()/10)),\n",
    "                           scope=\"usa\",\n",
    "                           labels={'aa':'aaaa'}\n",
    "                          )\n",
    "fig.update_layout(margin={\"r\":0,\"t\":0,\"l\":0,\"b\":0})\n",
    "fig.show()"
   ]
  },
  {
   "cell_type": "code",
   "execution_count": null,
   "metadata": {},
   "outputs": [],
   "source": [
    "acs_variable = 'B08014007' # Workers 16 Years and Over in Households: 5 or More Vehicles Available\n",
    "\n",
    "variable_name_2009 = 'ACS09_5yr_' + acs_variable\n",
    "variable_name_2019 = 'ACS19_5yr_' + acs_variable\n",
    "\n",
    "df_analysis = pd.DataFrame(df_2019['fips_str'])\n",
    "df_analysis['choropleth_data'] = df_2019[variable_name_2019] - df_2009[variable_name_2009]\n",
    "df_temp = df_analysis.sort_values(by=['choropleth_data'])\n",
    "df_temp = df_temp.dropna(subset = ['choropleth_data'])\n",
    "\n",
    "from urllib.request import urlopen\n",
    "import json\n",
    "with urlopen('https://raw.githubusercontent.com/plotly/datasets/master/geojson-counties-fips.json') as response:\n",
    "    counties = json.load(response)\n",
    "\n",
    "import plotly.express as px\n",
    "\n",
    "fig = px.choropleth(df_temp, geojson=counties, locations='fips_str', color='choropleth_data',\n",
    "                           color_continuous_scale=\"Viridis\",\n",
    "                           range_color=((df_temp['choropleth_data'].min()/10), (df_temp['choropleth_data'].max()/10)),\n",
    "                           scope=\"usa\",\n",
    "                           labels={'aa':'aaaa'}\n",
    "                          )\n",
    "fig.update_layout(margin={\"r\":0,\"t\":0,\"l\":0,\"b\":0})\n",
    "fig.show()"
   ]
  },
  {
   "cell_type": "markdown",
   "metadata": {
    "tags": []
   },
   "source": [
    "##### **PERCENT** Workers 16 Years and Over in Households & their vehicles B0801400#"
   ]
  },
  {
   "cell_type": "code",
   "execution_count": null,
   "metadata": {},
   "outputs": [],
   "source": [
    "acs_variable = 'B08014001' # Workers 16 Years and Over in Households\n",
    "\n",
    "variable_name_2009 = 'ACS09_5yr_' + acs_variable\n",
    "variable_name_2019 = 'ACS19_5yr_' + acs_variable\n",
    "\n",
    "df_analysis = pd.DataFrame(df_2019['fips_str'])\n",
    "df_analysis['choropleth_data'] = df_2019[variable_name_2019] - df_2009[variable_name_2009]\n",
    "df_temp = df_analysis.sort_values(by=['choropleth_data'])\n",
    "df_temp = df_temp.dropna(subset = ['choropleth_data'])\n",
    "\n",
    "from urllib.request import urlopen\n",
    "import json\n",
    "with urlopen('https://raw.githubusercontent.com/plotly/datasets/master/geojson-counties-fips.json') as response:\n",
    "    counties = json.load(response)\n",
    "\n",
    "import plotly.express as px\n",
    "\n",
    "fig = px.choropleth(df_temp, geojson=counties, locations='fips_str', color='choropleth_data',\n",
    "                           color_continuous_scale=\"Viridis\",\n",
    "                           range_color=((df_temp['choropleth_data'].min()/10), (df_temp['choropleth_data'].max()/10)),\n",
    "                           scope=\"usa\",\n",
    "                           labels={'aa':'aaaa'}\n",
    "                          )\n",
    "fig.update_layout(margin={\"r\":0,\"t\":0,\"l\":0,\"b\":0})\n",
    "fig.show()"
   ]
  },
  {
   "cell_type": "code",
   "execution_count": null,
   "metadata": {},
   "outputs": [],
   "source": [
    "acs_variable = 'B08014002' # % Workers 16 Years and Over in Households: No Vehicle Available\n",
    "\n",
    "variable_name_2009 = 'PCT_ACS09_5yr_' + acs_variable\n",
    "variable_name_2019 = 'PCT_ACS19_5yr_' + acs_variable\n",
    "\n",
    "df_analysis = pd.DataFrame(df_2019['fips_str'])\n",
    "df_analysis['choropleth_data'] = df_2019[variable_name_2019] - df_2009[variable_name_2009]\n",
    "df_temp = df_analysis.sort_values(by=['choropleth_data'])\n",
    "df_temp = df_temp.dropna(subset = ['choropleth_data'])\n",
    "\n",
    "from urllib.request import urlopen\n",
    "import json\n",
    "with urlopen('https://raw.githubusercontent.com/plotly/datasets/master/geojson-counties-fips.json') as response:\n",
    "    counties = json.load(response)\n",
    "\n",
    "import plotly.express as px\n",
    "\n",
    "fig = px.choropleth(df_temp, geojson=counties, locations='fips_str', color='choropleth_data',\n",
    "                           color_continuous_scale=\"Viridis\",\n",
    "                           range_color=((df_temp['choropleth_data'].min()/10), (df_temp['choropleth_data'].max()/10)),\n",
    "                           scope=\"usa\",\n",
    "                           labels={'aa':'aaaa'}\n",
    "                          )\n",
    "fig.update_layout(margin={\"r\":0,\"t\":0,\"l\":0,\"b\":0})\n",
    "fig.show()"
   ]
  },
  {
   "cell_type": "code",
   "execution_count": null,
   "metadata": {},
   "outputs": [],
   "source": [
    "acs_variable = 'B08014003' # % Workers 16 Years and Over in Households: 1 Vehicle Available\n",
    "\n",
    "variable_name_2009 = 'PCT_ACS09_5yr_' + acs_variable\n",
    "variable_name_2019 = 'PCT_ACS19_5yr_' + acs_variable\n",
    "\n",
    "df_analysis = pd.DataFrame(df_2019['fips_str'])\n",
    "df_analysis['choropleth_data'] = df_2019[variable_name_2019] - df_2009[variable_name_2009]\n",
    "df_temp = df_analysis.sort_values(by=['choropleth_data'])\n",
    "df_temp = df_temp.dropna(subset = ['choropleth_data'])\n",
    "\n",
    "from urllib.request import urlopen\n",
    "import json\n",
    "with urlopen('https://raw.githubusercontent.com/plotly/datasets/master/geojson-counties-fips.json') as response:\n",
    "    counties = json.load(response)\n",
    "\n",
    "import plotly.express as px\n",
    "\n",
    "fig = px.choropleth(df_temp, geojson=counties, locations='fips_str', color='choropleth_data',\n",
    "                           color_continuous_scale=\"Viridis\",\n",
    "                           range_color=((df_temp['choropleth_data'].min()/10), (df_temp['choropleth_data'].max()/10)),\n",
    "                           scope=\"usa\",\n",
    "                           labels={'aa':'aaaa'}\n",
    "                          )\n",
    "fig.update_layout(margin={\"r\":0,\"t\":0,\"l\":0,\"b\":0})\n",
    "fig.show()"
   ]
  },
  {
   "cell_type": "code",
   "execution_count": null,
   "metadata": {},
   "outputs": [],
   "source": [
    "acs_variable = 'B08014004' # % Workers 16 Years and Over in Households: 2 Vehicles Available\n",
    "\n",
    "variable_name_2009 = 'PCT_ACS09_5yr_' + acs_variable\n",
    "variable_name_2019 = 'PCT_ACS19_5yr_' + acs_variable\n",
    "\n",
    "df_analysis = pd.DataFrame(df_2019['fips_str'])\n",
    "df_analysis['choropleth_data'] = df_2019[variable_name_2019] - df_2009[variable_name_2009]\n",
    "df_temp = df_analysis.sort_values(by=['choropleth_data'])\n",
    "df_temp = df_temp.dropna(subset = ['choropleth_data'])\n",
    "\n",
    "from urllib.request import urlopen\n",
    "import json\n",
    "with urlopen('https://raw.githubusercontent.com/plotly/datasets/master/geojson-counties-fips.json') as response:\n",
    "    counties = json.load(response)\n",
    "\n",
    "import plotly.express as px\n",
    "\n",
    "fig = px.choropleth(df_temp, geojson=counties, locations='fips_str', color='choropleth_data',\n",
    "                           color_continuous_scale=\"Viridis\",\n",
    "                           range_color=((df_temp['choropleth_data'].min()/10), (df_temp['choropleth_data'].max()/10)),\n",
    "                           scope=\"usa\",\n",
    "                           labels={'aa':'aaaa'}\n",
    "                          )\n",
    "fig.update_layout(margin={\"r\":0,\"t\":0,\"l\":0,\"b\":0})\n",
    "fig.show()"
   ]
  },
  {
   "cell_type": "code",
   "execution_count": null,
   "metadata": {},
   "outputs": [],
   "source": [
    "acs_variable = 'B08014005' # % Workers 16 Years and Over in Households: 3 Vehicles Available\n",
    "\n",
    "variable_name_2009 = 'PCT_ACS09_5yr_' + acs_variable\n",
    "variable_name_2019 = 'PCT_ACS19_5yr_' + acs_variable\n",
    "\n",
    "df_analysis = pd.DataFrame(df_2019['fips_str'])\n",
    "df_analysis['choropleth_data'] = df_2019[variable_name_2019] - df_2009[variable_name_2009]\n",
    "df_temp = df_analysis.sort_values(by=['choropleth_data'])\n",
    "df_temp = df_temp.dropna(subset = ['choropleth_data'])\n",
    "\n",
    "from urllib.request import urlopen\n",
    "import json\n",
    "with urlopen('https://raw.githubusercontent.com/plotly/datasets/master/geojson-counties-fips.json') as response:\n",
    "    counties = json.load(response)\n",
    "\n",
    "import plotly.express as px\n",
    "\n",
    "fig = px.choropleth(df_temp, geojson=counties, locations='fips_str', color='choropleth_data',\n",
    "                           color_continuous_scale=\"Viridis\",\n",
    "                           range_color=((df_temp['choropleth_data'].min()/10), (df_temp['choropleth_data'].max()/10)),\n",
    "                           scope=\"usa\",\n",
    "                           labels={'aa':'aaaa'}\n",
    "                          )\n",
    "fig.update_layout(margin={\"r\":0,\"t\":0,\"l\":0,\"b\":0})\n",
    "fig.show()"
   ]
  },
  {
   "cell_type": "code",
   "execution_count": null,
   "metadata": {},
   "outputs": [],
   "source": [
    "acs_variable = 'B08014006' # % Workers 16 Years and Over in Households: 4 Vehicles Available\n",
    "\n",
    "variable_name_2009 = 'PCT_ACS09_5yr_' + acs_variable\n",
    "variable_name_2019 = 'PCT_ACS19_5yr_' + acs_variable\n",
    "\n",
    "df_analysis = pd.DataFrame(df_2019['fips_str'])\n",
    "df_analysis['choropleth_data'] = df_2019[variable_name_2019] - df_2009[variable_name_2009]\n",
    "df_temp = df_analysis.sort_values(by=['choropleth_data'])\n",
    "df_temp = df_temp.dropna(subset = ['choropleth_data'])\n",
    "\n",
    "from urllib.request import urlopen\n",
    "import json\n",
    "with urlopen('https://raw.githubusercontent.com/plotly/datasets/master/geojson-counties-fips.json') as response:\n",
    "    counties = json.load(response)\n",
    "\n",
    "import plotly.express as px\n",
    "\n",
    "fig = px.choropleth(df_temp, geojson=counties, locations='fips_str', color='choropleth_data',\n",
    "                           color_continuous_scale=\"Viridis\",\n",
    "                           range_color=((df_temp['choropleth_data'].min()/10), (df_temp['choropleth_data'].max()/10)),\n",
    "                           scope=\"usa\",\n",
    "                           labels={'aa':'aaaa'}\n",
    "                          )\n",
    "fig.update_layout(margin={\"r\":0,\"t\":0,\"l\":0,\"b\":0})\n",
    "fig.show()"
   ]
  },
  {
   "cell_type": "code",
   "execution_count": null,
   "metadata": {},
   "outputs": [],
   "source": [
    "acs_variable = 'B08014007' # % Workers 16 Years and Over in Households: 5 or More Vehicles Available\n",
    "\n",
    "variable_name_2009 = 'PCT_ACS09_5yr_' + acs_variable\n",
    "variable_name_2019 = 'PCT_ACS19_5yr_' + acs_variable\n",
    "\n",
    "df_analysis = pd.DataFrame(df_2019['fips_str'])\n",
    "df_analysis['choropleth_data'] = df_2019[variable_name_2019] - df_2009[variable_name_2009]\n",
    "df_temp = df_analysis.sort_values(by=['choropleth_data'])\n",
    "df_temp = df_temp.dropna(subset = ['choropleth_data'])\n",
    "\n",
    "from urllib.request import urlopen\n",
    "import json\n",
    "with urlopen('https://raw.githubusercontent.com/plotly/datasets/master/geojson-counties-fips.json') as response:\n",
    "    counties = json.load(response)\n",
    "\n",
    "import plotly.express as px\n",
    "\n",
    "fig = px.choropleth(df_temp, geojson=counties, locations='fips_str', color='choropleth_data',\n",
    "                           color_continuous_scale=\"Viridis\",\n",
    "                           range_color=((df_temp['choropleth_data'].min()/10), (df_temp['choropleth_data'].max()/10)),\n",
    "                           scope=\"usa\",\n",
    "                           labels={'aa':'aaaa'}\n",
    "                          )\n",
    "fig.update_layout(margin={\"r\":0,\"t\":0,\"l\":0,\"b\":0})\n",
    "fig.show()"
   ]
  },
  {
   "cell_type": "markdown",
   "metadata": {
    "tags": []
   },
   "source": [
    "##### \"Workers Whose Means of Transportation Is Car, Truck, or Van: Aggregate Number of Vehicles (Car, Truck, or Van) Used in Commuting\",B08015001"
   ]
  },
  {
   "cell_type": "code",
   "execution_count": null,
   "metadata": {
    "tags": []
   },
   "outputs": [],
   "source": [
    "acs_variable = 'B08015001'\n",
    "\n",
    "variable_name_2009 = 'ACS09_5yr_' + acs_variable\n",
    "variable_name_2019 = 'ACS19_5yr_' + acs_variable\n",
    "\n",
    "df_analysis = pd.DataFrame(df_2019['fips_str'])\n",
    "df_analysis['choropleth_data'] = df_2019[variable_name_2019] - df_2009[variable_name_2009]\n",
    "df_temp = df_analysis.sort_values(by=['choropleth_data'])\n",
    "df_temp = df_temp.dropna(subset = ['choropleth_data'])\n",
    "\n",
    "from urllib.request import urlopen\n",
    "import json\n",
    "with urlopen('https://raw.githubusercontent.com/plotly/datasets/master/geojson-counties-fips.json') as response:\n",
    "    counties = json.load(response)\n",
    "\n",
    "import plotly.express as px\n",
    "\n",
    "fig = px.choropleth(df_temp, geojson=counties, locations='fips_str', color='choropleth_data',\n",
    "                           color_continuous_scale=\"Viridis\",\n",
    "                           range_color=((df_temp['choropleth_data'].min()/10), (df_temp['choropleth_data'].max()/10)),\n",
    "                           scope=\"usa\",\n",
    "                           labels={'aa':'aaaa'}\n",
    "                          )\n",
    "fig.update_layout(margin={\"r\":0,\"t\":0,\"l\":0,\"b\":0})\n",
    "fig.show()"
   ]
  },
  {
   "cell_type": "markdown",
   "metadata": {
    "tags": []
   },
   "source": [
    "##### Workers 16 Years and Over,B08101001"
   ]
  },
  {
   "cell_type": "code",
   "execution_count": null,
   "metadata": {
    "tags": []
   },
   "outputs": [],
   "source": [
    "acs_variable = 'B08101001'\n",
    "\n",
    "variable_name_2009 = 'ACS09_5yr_' + acs_variable\n",
    "variable_name_2019 = 'ACS19_5yr_' + acs_variable\n",
    "\n",
    "df_analysis = pd.DataFrame(df_2019['fips_str'])\n",
    "df_analysis['choropleth_data'] = df_2019[variable_name_2019] - df_2009[variable_name_2009]\n",
    "df_temp = df_analysis.sort_values(by=['choropleth_data'])\n",
    "df_temp = df_temp.dropna(subset = ['choropleth_data'])\n",
    "\n",
    "from urllib.request import urlopen\n",
    "import json\n",
    "with urlopen('https://raw.githubusercontent.com/plotly/datasets/master/geojson-counties-fips.json') as response:\n",
    "    counties = json.load(response)\n",
    "\n",
    "import plotly.express as px\n",
    "\n",
    "fig = px.choropleth(df_temp, geojson=counties, locations='fips_str', color='choropleth_data',\n",
    "                           color_continuous_scale=\"Viridis\",\n",
    "                           range_color=((df_temp['choropleth_data'].min()/10), (df_temp['choropleth_data'].max()/10)),\n",
    "                           scope=\"usa\",\n",
    "                           labels={'aa':'aaaa'}\n",
    "                          )\n",
    "fig.update_layout(margin={\"r\":0,\"t\":0,\"l\":0,\"b\":0})\n",
    "fig.show()"
   ]
  },
  {
   "cell_type": "markdown",
   "metadata": {
    "tags": []
   },
   "source": [
    "##### **PERCENT** Workers 16 Years and Over: Public Transportation,B08101025"
   ]
  },
  {
   "cell_type": "code",
   "execution_count": null,
   "metadata": {
    "tags": []
   },
   "outputs": [],
   "source": [
    "acs_variable = 'B08101025'\n",
    "\n",
    "variable_name_2009 = 'PCT_ACS09_5yr_' + acs_variable\n",
    "variable_name_2019 = 'PCT_ACS19_5yr_' + acs_variable\n",
    "\n",
    "df_analysis = pd.DataFrame(df_2019['fips_str'])\n",
    "df_analysis['choropleth_data'] = df_2019[variable_name_2019] - df_2009[variable_name_2009]\n",
    "df_temp = df_analysis.sort_values(by=['choropleth_data'])\n",
    "df_temp = df_temp.dropna(subset = ['choropleth_data'])\n",
    "\n",
    "from urllib.request import urlopen\n",
    "import json\n",
    "with urlopen('https://raw.githubusercontent.com/plotly/datasets/master/geojson-counties-fips.json') as response:\n",
    "    counties = json.load(response)\n",
    "\n",
    "import plotly.express as px\n",
    "\n",
    "fig = px.choropleth(df_temp, geojson=counties, locations='fips_str', color='choropleth_data',\n",
    "                           color_continuous_scale=\"Viridis\",\n",
    "                           range_color=((df_temp['choropleth_data'].min()/10), (df_temp['choropleth_data'].max()/10)),\n",
    "                           scope=\"usa\",\n",
    "                           labels={'aa':'aaaa'}\n",
    "                          )\n",
    "fig.update_layout(margin={\"r\":0,\"t\":0,\"l\":0,\"b\":0})\n",
    "fig.show()"
   ]
  },
  {
   "cell_type": "markdown",
   "metadata": {
    "tags": []
   },
   "source": [
    "# Choropleth Mapping"
   ]
  },
  {
   "cell_type": "code",
   "execution_count": null,
   "metadata": {
    "tags": []
   },
   "outputs": [],
   "source": [
    "# export_df['population/sqrt_area_land_sqkm'] = export_df['population'] / export_df['sqrt_area_land_sqkm'] \n",
    "# temp_df = export_df.sort_values(by=['population/sqrt_area_land_sqkm'])\n",
    "\n",
    "# temp_df['temp'] = temp_df['population/sqrt_area_land_sqkm']\n",
    "df_temp = df_2009\n",
    "df_temp = df_temp.dropna(subset = ['Workers 16 Years and Over: Public Transportation (Excluding Taxicab)'])\n",
    "df_temp['data'] = df_temp['Workers 16 Years and Over: Public Transportation (Excluding Taxicab)']\n",
    "\n",
    "from urllib.request import urlopen\n",
    "import json\n",
    "with urlopen('https://raw.githubusercontent.com/plotly/datasets/master/geojson-counties-fips.json') as response:\n",
    "    counties = json.load(response)\n",
    "\n",
    "import plotly.express as px\n",
    "\n",
    "fig = px.choropleth(df_temp, geojson=counties, locations='fips_str', color='data',\n",
    "                           color_continuous_scale=\"Viridis\",\n",
    "                           range_color=(0, 40000),\n",
    "                           scope=\"usa\",\n",
    "                           labels={'aa':'aaaa'}\n",
    "                          )\n",
    "fig.update_layout(margin={\"r\":0,\"t\":0,\"l\":0,\"b\":0})\n",
    "fig.show()"
   ]
  },
  {
   "cell_type": "code",
   "execution_count": null,
   "metadata": {},
   "outputs": [],
   "source": []
  }
 ],
 "metadata": {
  "kernelspec": {
   "display_name": "Python 3 (ipykernel)",
   "language": "python",
   "name": "python3"
  },
  "language_info": {
   "codemirror_mode": {
    "name": "ipython",
    "version": 3
   },
   "file_extension": ".py",
   "mimetype": "text/x-python",
   "name": "python",
   "nbconvert_exporter": "python",
   "pygments_lexer": "ipython3",
   "version": "3.10.8"
  },
  "vscode": {
   "interpreter": {
    "hash": "a36ec43899a0caf4b8e96327d984f7682f5de923829754118f66a7729dbb8889"
   }
  }
 },
 "nbformat": 4,
 "nbformat_minor": 4
}
